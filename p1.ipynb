{
 "cells": [
  {
   "cell_type": "code",
   "execution_count": 1,
   "id": "c3a7062b",
   "metadata": {},
   "outputs": [
    {
     "data": {
      "text/plain": [
       "'0xa'"
      ]
     },
     "execution_count": 1,
     "metadata": {},
     "output_type": "execute_result"
    }
   ],
   "source": [
    "hex(10)"
   ]
  },
  {
   "cell_type": "code",
   "execution_count": 2,
   "id": "b169bc2d",
   "metadata": {},
   "outputs": [
    {
     "data": {
      "text/plain": [
       "'0b11111'"
      ]
     },
     "execution_count": 2,
     "metadata": {},
     "output_type": "execute_result"
    }
   ],
   "source": [
    "bin(31)"
   ]
  },
  {
   "cell_type": "code",
   "execution_count": 3,
   "id": "ff0654ff",
   "metadata": {},
   "outputs": [
    {
     "data": {
      "text/plain": [
       "'0b110100'"
      ]
     },
     "execution_count": 3,
     "metadata": {},
     "output_type": "execute_result"
    }
   ],
   "source": [
    "bin(52)"
   ]
  },
  {
   "cell_type": "code",
   "execution_count": 4,
   "id": "b5fb547c",
   "metadata": {},
   "outputs": [
    {
     "data": {
      "text/plain": [
       "'0b1000001'"
      ]
     },
     "execution_count": 4,
     "metadata": {},
     "output_type": "execute_result"
    }
   ],
   "source": [
    "bin(65)"
   ]
  },
  {
   "cell_type": "code",
   "execution_count": 5,
   "id": "f2680e32",
   "metadata": {},
   "outputs": [
    {
     "data": {
      "text/plain": [
       "410"
      ]
     },
     "execution_count": 5,
     "metadata": {},
     "output_type": "execute_result"
    }
   ],
   "source": [
    "0b110011010"
   ]
  },
  {
   "cell_type": "code",
   "execution_count": 64,
   "id": "bd48a447",
   "metadata": {},
   "outputs": [
    {
     "name": "stdout",
     "output_type": "stream",
     "text": [
      "5\n",
      "6\n",
      "6\n",
      "5\n"
     ]
    }
   ],
   "source": [
    "a=5\n",
    "b=6\n",
    "print(a)\n",
    "print(b)\n",
    "a=a+b\n",
    "b=a-b\n",
    "a=a-b\n",
    "print(a)\n",
    "print(b)"
   ]
  },
  {
   "cell_type": "code",
   "execution_count": 14,
   "id": "a49823b2",
   "metadata": {},
   "outputs": [
    {
     "data": {
      "text/plain": [
       "'0b1101'"
      ]
     },
     "execution_count": 14,
     "metadata": {},
     "output_type": "execute_result"
    }
   ],
   "source": [
    "bin(13)"
   ]
  },
  {
   "cell_type": "code",
   "execution_count": 15,
   "id": "18b916bc",
   "metadata": {},
   "outputs": [
    {
     "data": {
      "text/plain": [
       "243"
      ]
     },
     "execution_count": 15,
     "metadata": {},
     "output_type": "execute_result"
    }
   ],
   "source": [
    "0b11110011"
   ]
  },
  {
   "cell_type": "code",
   "execution_count": 18,
   "id": "ef89476c",
   "metadata": {},
   "outputs": [
    {
     "data": {
      "text/plain": [
       "24"
      ]
     },
     "execution_count": 18,
     "metadata": {},
     "output_type": "execute_result"
    }
   ],
   "source": [
    "25&30"
   ]
  },
  {
   "cell_type": "code",
   "execution_count": 19,
   "id": "8945319a",
   "metadata": {},
   "outputs": [
    {
     "data": {
      "text/plain": [
       "40"
      ]
     },
     "execution_count": 19,
     "metadata": {},
     "output_type": "execute_result"
    }
   ],
   "source": [
    "10<<2"
   ]
  },
  {
   "cell_type": "code",
   "execution_count": 20,
   "id": "cc4f3e9c",
   "metadata": {},
   "outputs": [
    {
     "data": {
      "text/plain": [
       "2"
      ]
     },
     "execution_count": 20,
     "metadata": {},
     "output_type": "execute_result"
    }
   ],
   "source": [
    "10>>2"
   ]
  },
  {
   "cell_type": "code",
   "execution_count": 23,
   "id": "89fec4d9",
   "metadata": {},
   "outputs": [
    {
     "name": "stdout",
     "output_type": "stream",
     "text": [
      "5.0\n"
     ]
    }
   ],
   "source": [
    "import math\n",
    "x=math.sqrt(25)\n",
    "print(x)"
   ]
  },
  {
   "cell_type": "code",
   "execution_count": 26,
   "id": "cd4c4e01",
   "metadata": {},
   "outputs": [
    {
     "name": "stdout",
     "output_type": "stream",
     "text": [
      "3\n"
     ]
    }
   ],
   "source": [
    "print(math.ceil(2.1))"
   ]
  },
  {
   "cell_type": "code",
   "execution_count": 31,
   "id": "9f88da6d",
   "metadata": {},
   "outputs": [
    {
     "data": {
      "text/plain": [
       "5.0"
      ]
     },
     "execution_count": 31,
     "metadata": {},
     "output_type": "execute_result"
    }
   ],
   "source": [
    "from math import sqrt,pow \n",
    "math.sqrt(25)"
   ]
  },
  {
   "cell_type": "code",
   "execution_count": 32,
   "id": "44622cd7",
   "metadata": {},
   "outputs": [
    {
     "name": "stdout",
     "output_type": "stream",
     "text": [
      "Help on built-in module math:\n",
      "\n",
      "NAME\n",
      "    math\n",
      "\n",
      "DESCRIPTION\n",
      "    This module provides access to the mathematical functions\n",
      "    defined by the C standard.\n",
      "\n",
      "FUNCTIONS\n",
      "    acos(x, /)\n",
      "        Return the arc cosine (measured in radians) of x.\n",
      "        \n",
      "        The result is between 0 and pi.\n",
      "    \n",
      "    acosh(x, /)\n",
      "        Return the inverse hyperbolic cosine of x.\n",
      "    \n",
      "    asin(x, /)\n",
      "        Return the arc sine (measured in radians) of x.\n",
      "        \n",
      "        The result is between -pi/2 and pi/2.\n",
      "    \n",
      "    asinh(x, /)\n",
      "        Return the inverse hyperbolic sine of x.\n",
      "    \n",
      "    atan(x, /)\n",
      "        Return the arc tangent (measured in radians) of x.\n",
      "        \n",
      "        The result is between -pi/2 and pi/2.\n",
      "    \n",
      "    atan2(y, x, /)\n",
      "        Return the arc tangent (measured in radians) of y/x.\n",
      "        \n",
      "        Unlike atan(y/x), the signs of both x and y are considered.\n",
      "    \n",
      "    atanh(x, /)\n",
      "        Return the inverse hyperbolic tangent of x.\n",
      "    \n",
      "    cbrt(x, /)\n",
      "        Return the cube root of x.\n",
      "    \n",
      "    ceil(x, /)\n",
      "        Return the ceiling of x as an Integral.\n",
      "        \n",
      "        This is the smallest integer >= x.\n",
      "    \n",
      "    comb(n, k, /)\n",
      "        Number of ways to choose k items from n items without repetition and without order.\n",
      "        \n",
      "        Evaluates to n! / (k! * (n - k)!) when k <= n and evaluates\n",
      "        to zero when k > n.\n",
      "        \n",
      "        Also called the binomial coefficient because it is equivalent\n",
      "        to the coefficient of k-th term in polynomial expansion of the\n",
      "        expression (1 + x)**n.\n",
      "        \n",
      "        Raises TypeError if either of the arguments are not integers.\n",
      "        Raises ValueError if either of the arguments are negative.\n",
      "    \n",
      "    copysign(x, y, /)\n",
      "        Return a float with the magnitude (absolute value) of x but the sign of y.\n",
      "        \n",
      "        On platforms that support signed zeros, copysign(1.0, -0.0)\n",
      "        returns -1.0.\n",
      "    \n",
      "    cos(x, /)\n",
      "        Return the cosine of x (measured in radians).\n",
      "    \n",
      "    cosh(x, /)\n",
      "        Return the hyperbolic cosine of x.\n",
      "    \n",
      "    degrees(x, /)\n",
      "        Convert angle x from radians to degrees.\n",
      "    \n",
      "    dist(p, q, /)\n",
      "        Return the Euclidean distance between two points p and q.\n",
      "        \n",
      "        The points should be specified as sequences (or iterables) of\n",
      "        coordinates.  Both inputs must have the same dimension.\n",
      "        \n",
      "        Roughly equivalent to:\n",
      "            sqrt(sum((px - qx) ** 2.0 for px, qx in zip(p, q)))\n",
      "    \n",
      "    erf(x, /)\n",
      "        Error function at x.\n",
      "    \n",
      "    erfc(x, /)\n",
      "        Complementary error function at x.\n",
      "    \n",
      "    exp(x, /)\n",
      "        Return e raised to the power of x.\n",
      "    \n",
      "    exp2(x, /)\n",
      "        Return 2 raised to the power of x.\n",
      "    \n",
      "    expm1(x, /)\n",
      "        Return exp(x)-1.\n",
      "        \n",
      "        This function avoids the loss of precision involved in the direct evaluation of exp(x)-1 for small x.\n",
      "    \n",
      "    fabs(x, /)\n",
      "        Return the absolute value of the float x.\n",
      "    \n",
      "    factorial(n, /)\n",
      "        Find n!.\n",
      "        \n",
      "        Raise a ValueError if x is negative or non-integral.\n",
      "    \n",
      "    floor(x, /)\n",
      "        Return the floor of x as an Integral.\n",
      "        \n",
      "        This is the largest integer <= x.\n",
      "    \n",
      "    fmod(x, y, /)\n",
      "        Return fmod(x, y), according to platform C.\n",
      "        \n",
      "        x % y may differ.\n",
      "    \n",
      "    frexp(x, /)\n",
      "        Return the mantissa and exponent of x, as pair (m, e).\n",
      "        \n",
      "        m is a float and e is an int, such that x = m * 2.**e.\n",
      "        If x is 0, m and e are both 0.  Else 0.5 <= abs(m) < 1.0.\n",
      "    \n",
      "    fsum(seq, /)\n",
      "        Return an accurate floating point sum of values in the iterable seq.\n",
      "        \n",
      "        Assumes IEEE-754 floating point arithmetic.\n",
      "    \n",
      "    gamma(x, /)\n",
      "        Gamma function at x.\n",
      "    \n",
      "    gcd(*integers)\n",
      "        Greatest Common Divisor.\n",
      "    \n",
      "    hypot(...)\n",
      "        hypot(*coordinates) -> value\n",
      "        \n",
      "        Multidimensional Euclidean distance from the origin to a point.\n",
      "        \n",
      "        Roughly equivalent to:\n",
      "            sqrt(sum(x**2 for x in coordinates))\n",
      "        \n",
      "        For a two dimensional point (x, y), gives the hypotenuse\n",
      "        using the Pythagorean theorem:  sqrt(x*x + y*y).\n",
      "        \n",
      "        For example, the hypotenuse of a 3/4/5 right triangle is:\n",
      "        \n",
      "            >>> hypot(3.0, 4.0)\n",
      "            5.0\n",
      "    \n",
      "    isclose(a, b, *, rel_tol=1e-09, abs_tol=0.0)\n",
      "        Determine whether two floating point numbers are close in value.\n",
      "        \n",
      "          rel_tol\n",
      "            maximum difference for being considered \"close\", relative to the\n",
      "            magnitude of the input values\n",
      "          abs_tol\n",
      "            maximum difference for being considered \"close\", regardless of the\n",
      "            magnitude of the input values\n",
      "        \n",
      "        Return True if a is close in value to b, and False otherwise.\n",
      "        \n",
      "        For the values to be considered close, the difference between them\n",
      "        must be smaller than at least one of the tolerances.\n",
      "        \n",
      "        -inf, inf and NaN behave similarly to the IEEE 754 Standard.  That\n",
      "        is, NaN is not close to anything, even itself.  inf and -inf are\n",
      "        only close to themselves.\n",
      "    \n",
      "    isfinite(x, /)\n",
      "        Return True if x is neither an infinity nor a NaN, and False otherwise.\n",
      "    \n",
      "    isinf(x, /)\n",
      "        Return True if x is a positive or negative infinity, and False otherwise.\n",
      "    \n",
      "    isnan(x, /)\n",
      "        Return True if x is a NaN (not a number), and False otherwise.\n",
      "    \n",
      "    isqrt(n, /)\n",
      "        Return the integer part of the square root of the input.\n",
      "    \n",
      "    lcm(*integers)\n",
      "        Least Common Multiple.\n",
      "    \n",
      "    ldexp(x, i, /)\n",
      "        Return x * (2**i).\n",
      "        \n",
      "        This is essentially the inverse of frexp().\n",
      "    \n",
      "    lgamma(x, /)\n",
      "        Natural logarithm of absolute value of Gamma function at x.\n",
      "    \n",
      "    log(...)\n",
      "        log(x, [base=math.e])\n",
      "        Return the logarithm of x to the given base.\n",
      "        \n",
      "        If the base not specified, returns the natural logarithm (base e) of x.\n",
      "    \n",
      "    log10(x, /)\n",
      "        Return the base 10 logarithm of x.\n",
      "    \n",
      "    log1p(x, /)\n",
      "        Return the natural logarithm of 1+x (base e).\n",
      "        \n",
      "        The result is computed in a way which is accurate for x near zero.\n",
      "    \n",
      "    log2(x, /)\n",
      "        Return the base 2 logarithm of x.\n",
      "    \n",
      "    modf(x, /)\n",
      "        Return the fractional and integer parts of x.\n",
      "        \n",
      "        Both results carry the sign of x and are floats.\n",
      "    \n",
      "    nextafter(x, y, /)\n",
      "        Return the next floating-point value after x towards y.\n",
      "    \n",
      "    perm(n, k=None, /)\n",
      "        Number of ways to choose k items from n items without repetition and with order.\n",
      "        \n",
      "        Evaluates to n! / (n - k)! when k <= n and evaluates\n",
      "        to zero when k > n.\n",
      "        \n",
      "        If k is not specified or is None, then k defaults to n\n",
      "        and the function returns n!.\n",
      "        \n",
      "        Raises TypeError if either of the arguments are not integers.\n",
      "        Raises ValueError if either of the arguments are negative.\n",
      "    \n",
      "    pow(x, y, /)\n",
      "        Return x**y (x to the power of y).\n",
      "    \n",
      "    prod(iterable, /, *, start=1)\n",
      "        Calculate the product of all the elements in the input iterable.\n",
      "        \n",
      "        The default start value for the product is 1.\n",
      "        \n",
      "        When the iterable is empty, return the start value.  This function is\n",
      "        intended specifically for use with numeric values and may reject\n",
      "        non-numeric types.\n",
      "    \n",
      "    radians(x, /)\n",
      "        Convert angle x from degrees to radians.\n",
      "    \n",
      "    remainder(x, y, /)\n",
      "        Difference between x and the closest integer multiple of y.\n",
      "        \n",
      "        Return x - n*y where n*y is the closest integer multiple of y.\n",
      "        In the case where x is exactly halfway between two multiples of\n",
      "        y, the nearest even value of n is used. The result is always exact.\n",
      "    \n",
      "    sin(x, /)\n",
      "        Return the sine of x (measured in radians).\n",
      "    \n",
      "    sinh(x, /)\n",
      "        Return the hyperbolic sine of x.\n",
      "    \n",
      "    sqrt(x, /)\n",
      "        Return the square root of x.\n",
      "    \n",
      "    tan(x, /)\n",
      "        Return the tangent of x (measured in radians).\n",
      "    \n",
      "    tanh(x, /)\n",
      "        Return the hyperbolic tangent of x.\n",
      "    \n",
      "    trunc(x, /)\n",
      "        Truncates the Real x to the nearest Integral toward 0.\n",
      "        \n",
      "        Uses the __trunc__ magic method.\n",
      "    \n",
      "    ulp(x, /)\n",
      "        Return the value of the least significant bit of the float x.\n",
      "\n",
      "DATA\n",
      "    e = 2.718281828459045\n",
      "    inf = inf\n",
      "    nan = nan\n",
      "    pi = 3.141592653589793\n",
      "    tau = 6.283185307179586\n",
      "\n",
      "FILE\n",
      "    (built-in)\n",
      "\n",
      "\n"
     ]
    }
   ],
   "source": [
    "help('math')"
   ]
  },
  {
   "cell_type": "code",
   "execution_count": 35,
   "id": "002b2461",
   "metadata": {},
   "outputs": [
    {
     "name": "stdout",
     "output_type": "stream",
     "text": [
      "6\n"
     ]
    }
   ],
   "source": [
    "a=5\n",
    "b=6\n",
    "if a>b:\n",
    "    print(a)\n",
    "else:\n",
    "    print(b)"
   ]
  },
  {
   "cell_type": "code",
   "execution_count": 41,
   "id": "7a2f60c3",
   "metadata": {},
   "outputs": [
    {
     "name": "stdout",
     "output_type": "stream",
     "text": [
      "2\n",
      "4\n",
      "<class 'int'>\n",
      "<class 'int'>\n",
      "6\n"
     ]
    }
   ],
   "source": [
    "x=int(input())\n",
    "y=int(input())\n",
    "print(type(x))\n",
    "print(type(y))\n",
    "print(x+y)"
   ]
  },
  {
   "cell_type": "code",
   "execution_count": 42,
   "id": "abb2c4df",
   "metadata": {},
   "outputs": [
    {
     "name": "stdout",
     "output_type": "stream",
     "text": [
      "a is an odd number\n"
     ]
    }
   ],
   "source": [
    "if a % 2 ==0:\n",
    "    print(\"a is an even number\")\n",
    "else:\n",
    "    print(\"a is an odd number\")"
   ]
  },
  {
   "cell_type": "code",
   "execution_count": 69,
   "id": "07d60561",
   "metadata": {},
   "outputs": [
    {
     "name": "stdout",
     "output_type": "stream",
     "text": [
      "a 1\n"
     ]
    }
   ],
   "source": [
    "a=1\n",
    "while a<=10:\n",
    "    print('a',a)\n",
    "    break\n",
    "    a+=1"
   ]
  },
  {
   "cell_type": "code",
   "execution_count": 70,
   "id": "63866f37",
   "metadata": {},
   "outputs": [
    {
     "name": "stdout",
     "output_type": "stream",
     "text": [
      "0\n",
      "1\n",
      "2\n",
      "3\n",
      "4\n",
      "5\n",
      "6\n",
      "7\n",
      "8\n",
      "9\n"
     ]
    }
   ],
   "source": [
    "for i in range(10):\n",
    "    print(i)"
   ]
  },
  {
   "cell_type": "code",
   "execution_count": 87,
   "id": "7f42c1d1",
   "metadata": {},
   "outputs": [
    {
     "name": "stdout",
     "output_type": "stream",
     "text": [
      "1\n",
      "2\n",
      "3\n",
      "4\n",
      "6\n",
      "7\n",
      "8\n",
      "9\n",
      "11\n",
      "12\n",
      "13\n",
      "14\n",
      "16\n",
      "17\n",
      "18\n",
      "19\n"
     ]
    }
   ],
   "source": [
    "for i in range(1,21):\n",
    "    if i%5!=0:\n",
    "        print(i)"
   ]
  },
  {
   "cell_type": "code",
   "execution_count": 88,
   "id": "c5576541",
   "metadata": {},
   "outputs": [
    {
     "name": "stdout",
     "output_type": "stream",
     "text": [
      "1\n",
      "2\n",
      "3\n",
      "4\n",
      "6\n",
      "7\n",
      "8\n",
      "9\n",
      "11\n",
      "12\n",
      "13\n",
      "14\n",
      "16\n",
      "17\n",
      "18\n",
      "19\n"
     ]
    }
   ],
   "source": [
    "for i in range(1,21):\n",
    "    if i%5==0:\n",
    "        continue\n",
    "    print(i)"
   ]
  },
  {
   "cell_type": "code",
   "execution_count": 1,
   "id": "2f560b94",
   "metadata": {},
   "outputs": [
    {
     "data": {
      "text/plain": [
       "3"
      ]
     },
     "execution_count": 1,
     "metadata": {},
     "output_type": "execute_result"
    }
   ],
   "source": [
    "def add_numbers(a, b):\n",
    "  \"\"\"Returns the sum of two numbers.\"\"\"\n",
    "  return a + b\n",
    "\n",
    "# Call the function and assign the return value to a variable.\n",
    "add_numbers(1, 2)"
   ]
  },
  {
   "cell_type": "code",
   "execution_count": 5,
   "id": "42fc274a",
   "metadata": {},
   "outputs": [
    {
     "name": "stdout",
     "output_type": "stream",
     "text": [
      "3.5\n"
     ]
    }
   ],
   "source": [
    "def add_numbers(a, b):\n",
    "  \"\"\"Returns the sum of two numbers.\"\"\"\n",
    "  print(a + b)\n",
    "\n",
    "# Call the function and assign the return value to a variable.\n",
    "add_numbers(1, 2.5)"
   ]
  },
  {
   "cell_type": "code",
   "execution_count": 4,
   "id": "149c09db",
   "metadata": {},
   "outputs": [
    {
     "data": {
      "text/plain": [
       "5.5"
      ]
     },
     "execution_count": 4,
     "metadata": {},
     "output_type": "execute_result"
    }
   ],
   "source": [
    "2+3.5"
   ]
  },
  {
   "cell_type": "code",
   "execution_count": 20,
   "id": "1a72e09a",
   "metadata": {},
   "outputs": [
    {
     "ename": "IndentationError",
     "evalue": "expected an indented block after function definition on line 2 (2187631223.py, line 3)",
     "output_type": "error",
     "traceback": [
      "\u001b[1;36m  Cell \u001b[1;32mIn[20], line 3\u001b[1;36m\u001b[0m\n\u001b[1;33m    //    global a\u001b[0m\n\u001b[1;37m    ^\u001b[0m\n\u001b[1;31mIndentationError\u001b[0m\u001b[1;31m:\u001b[0m expected an indented block after function definition on line 2\n"
     ]
    }
   ],
   "source": [
    "a=10\n",
    "def testing():\n",
    "//    global a\n",
    "    a=11\n",
    "    print(a)\n",
    "    \n",
    "testing()\n",
    "print(a)"
   ]
  },
  {
   "cell_type": "code",
   "execution_count": 21,
   "id": "4c317a5a",
   "metadata": {},
   "outputs": [
    {
     "data": {
      "text/plain": [
       "{'__name__': '__main__',\n",
       " '__doc__': 'Automatically created module for IPython interactive environment',\n",
       " '__package__': None,\n",
       " '__loader__': None,\n",
       " '__spec__': None,\n",
       " '__builtin__': <module 'builtins' (built-in)>,\n",
       " '__builtins__': <module 'builtins' (built-in)>,\n",
       " '_ih': ['',\n",
       "  'def add_numbers(a, b):\\n  \"\"\"Returns the sum of two numbers.\"\"\"\\n  return a + b\\n\\n# Call the function and assign the return value to a variable.\\nadd_numbers(1, 2)',\n",
       "  'def add_numbers(a, b):\\n  \"\"\"Returns the sum of two numbers.\"\"\"\\n  print(a + b)\\n\\n# Call the function and assign the return value to a variable.\\nresult = add_numbers(1, 2)',\n",
       "  'def add_numbers(a, b):\\n  \"\"\"Returns the sum of two numbers.\"\"\"\\n  print(a + b)\\n\\n# Call the function and assign the return value to a variable.\\nadd_numbers(1, 2)',\n",
       "  '2+3.5',\n",
       "  'def add_numbers(a, b):\\n  \"\"\"Returns the sum of two numbers.\"\"\"\\n  print(a + b)\\n\\n# Call the function and assign the return value to a variable.\\nadd_numbers(1, 2.5)',\n",
       "  'a=10\\ndef testing():\\n    print(a)\\n    a=11\\n    print(a)',\n",
       "  'a=10\\ndef testing():\\n    print(a)\\n    a=11\\n    print(a)',\n",
       "  'a=10\\ndef testing():\\nprint(a)\\n    a=11\\nprint(a)',\n",
       "  'a=10\\ndef testing():\\n    print(a)\\n        a=11\\n        print(a)',\n",
       "  'a=10\\ndef testing():\\n    print(a)\\n    a=11\\n    print(a)',\n",
       "  'a=10\\ndef testing():\\n    print(a)\\n    a=11\\n    print(a)\\n    \\ntesting()\\nprint(a)',\n",
       "  'a=10\\ndef testing():\\n    a=11\\n    print(a)\\n    \\ntesting()\\nprint(a)',\n",
       "  'a=10\\ndef testing():\\n    //a=11\\n    print(a)\\n    \\ntesting()\\nprint(a)',\n",
       "  'a=10\\ndef testing():\\n    //a=11\\n    print(a)\\n    \\ntesting()\\nprint(a)',\n",
       "  'a=10\\ndef testing():\\n    print(a)\\n    \\ntesting()\\nprint(a)',\n",
       "  'a=10\\ndef testing():\\n    global a=11\\n    print(a)\\n    \\ntesting()\\nprint(a)',\n",
       "  'a=10\\ndef testing():\\n    global a\\n    a=11\\n    print(a)\\n    \\ntesting()\\nprint(a)',\n",
       "  'a=10\\ndef testing():\\n--    global a\\n    a=11\\n    print(a)\\n    \\ntesting()\\nprint(a)',\n",
       "  'a=10\\ndef testing():\\n\\\\\\\\    global a\\n    a=11\\n    print(a)\\n    \\ntesting()\\nprint(a)',\n",
       "  'a=10\\ndef testing():\\n//    global a\\n    a=11\\n    print(a)\\n    \\ntesting()\\nprint(a)',\n",
       "  'globals()'],\n",
       " '_oh': {1: 3, 4: 5.5},\n",
       " '_dh': [WindowsPath('C:/Users/f2lah')],\n",
       " 'In': ['',\n",
       "  'def add_numbers(a, b):\\n  \"\"\"Returns the sum of two numbers.\"\"\"\\n  return a + b\\n\\n# Call the function and assign the return value to a variable.\\nadd_numbers(1, 2)',\n",
       "  'def add_numbers(a, b):\\n  \"\"\"Returns the sum of two numbers.\"\"\"\\n  print(a + b)\\n\\n# Call the function and assign the return value to a variable.\\nresult = add_numbers(1, 2)',\n",
       "  'def add_numbers(a, b):\\n  \"\"\"Returns the sum of two numbers.\"\"\"\\n  print(a + b)\\n\\n# Call the function and assign the return value to a variable.\\nadd_numbers(1, 2)',\n",
       "  '2+3.5',\n",
       "  'def add_numbers(a, b):\\n  \"\"\"Returns the sum of two numbers.\"\"\"\\n  print(a + b)\\n\\n# Call the function and assign the return value to a variable.\\nadd_numbers(1, 2.5)',\n",
       "  'a=10\\ndef testing():\\n    print(a)\\n    a=11\\n    print(a)',\n",
       "  'a=10\\ndef testing():\\n    print(a)\\n    a=11\\n    print(a)',\n",
       "  'a=10\\ndef testing():\\nprint(a)\\n    a=11\\nprint(a)',\n",
       "  'a=10\\ndef testing():\\n    print(a)\\n        a=11\\n        print(a)',\n",
       "  'a=10\\ndef testing():\\n    print(a)\\n    a=11\\n    print(a)',\n",
       "  'a=10\\ndef testing():\\n    print(a)\\n    a=11\\n    print(a)\\n    \\ntesting()\\nprint(a)',\n",
       "  'a=10\\ndef testing():\\n    a=11\\n    print(a)\\n    \\ntesting()\\nprint(a)',\n",
       "  'a=10\\ndef testing():\\n    //a=11\\n    print(a)\\n    \\ntesting()\\nprint(a)',\n",
       "  'a=10\\ndef testing():\\n    //a=11\\n    print(a)\\n    \\ntesting()\\nprint(a)',\n",
       "  'a=10\\ndef testing():\\n    print(a)\\n    \\ntesting()\\nprint(a)',\n",
       "  'a=10\\ndef testing():\\n    global a=11\\n    print(a)\\n    \\ntesting()\\nprint(a)',\n",
       "  'a=10\\ndef testing():\\n    global a\\n    a=11\\n    print(a)\\n    \\ntesting()\\nprint(a)',\n",
       "  'a=10\\ndef testing():\\n--    global a\\n    a=11\\n    print(a)\\n    \\ntesting()\\nprint(a)',\n",
       "  'a=10\\ndef testing():\\n\\\\\\\\    global a\\n    a=11\\n    print(a)\\n    \\ntesting()\\nprint(a)',\n",
       "  'a=10\\ndef testing():\\n//    global a\\n    a=11\\n    print(a)\\n    \\ntesting()\\nprint(a)',\n",
       "  'globals()'],\n",
       " 'Out': {1: 3, 4: 5.5},\n",
       " 'get_ipython': <bound method InteractiveShell.get_ipython of <ipykernel.zmqshell.ZMQInteractiveShell object at 0x000001DAB3649990>>,\n",
       " 'exit': <IPython.core.autocall.ZMQExitAutocall at 0x1dab3655950>,\n",
       " 'quit': <IPython.core.autocall.ZMQExitAutocall at 0x1dab3655950>,\n",
       " 'open': <function io.open(file, mode='r', buffering=-1, encoding=None, errors=None, newline=None, closefd=True, opener=None)>,\n",
       " '_': 5.5,\n",
       " '__': 3,\n",
       " '___': '',\n",
       " '_i': 'a=10\\ndef testing():\\n//    global a\\n    a=11\\n    print(a)\\n    \\ntesting()\\nprint(a)',\n",
       " '_ii': 'a=10\\ndef testing():\\n\\\\\\\\    global a\\n    a=11\\n    print(a)\\n    \\ntesting()\\nprint(a)',\n",
       " '_iii': 'a=10\\ndef testing():\\n--    global a\\n    a=11\\n    print(a)\\n    \\ntesting()\\nprint(a)',\n",
       " '_i1': 'def add_numbers(a, b):\\n  \"\"\"Returns the sum of two numbers.\"\"\"\\n  return a + b\\n\\n# Call the function and assign the return value to a variable.\\nadd_numbers(1, 2)',\n",
       " 'add_numbers': <function __main__.add_numbers(a, b)>,\n",
       " '_1': 3,\n",
       " '_i2': 'def add_numbers(a, b):\\n  \"\"\"Returns the sum of two numbers.\"\"\"\\n  print(a + b)\\n\\n# Call the function and assign the return value to a variable.\\nresult = add_numbers(1, 2)',\n",
       " 'result': None,\n",
       " '_i3': 'def add_numbers(a, b):\\n  \"\"\"Returns the sum of two numbers.\"\"\"\\n  print(a + b)\\n\\n# Call the function and assign the return value to a variable.\\nadd_numbers(1, 2)',\n",
       " '_i4': '2+3.5',\n",
       " '_4': 5.5,\n",
       " '_i5': 'def add_numbers(a, b):\\n  \"\"\"Returns the sum of two numbers.\"\"\"\\n  print(a + b)\\n\\n# Call the function and assign the return value to a variable.\\nadd_numbers(1, 2.5)',\n",
       " '_i6': 'a=10\\ndef testing():\\n    print(a)\\n    a=11\\n    print(a)',\n",
       " 'a': 11,\n",
       " 'testing': <function __main__.testing()>,\n",
       " '_i7': 'a=10\\ndef testing():\\n    print(a)\\n    a=11\\n    print(a)',\n",
       " '_i8': 'a=10\\ndef testing():\\nprint(a)\\n    a=11\\nprint(a)',\n",
       " '_i9': 'a=10\\ndef testing():\\n    print(a)\\n        a=11\\n        print(a)',\n",
       " '_i10': 'a=10\\ndef testing():\\n    print(a)\\n    a=11\\n    print(a)',\n",
       " '_i11': 'a=10\\ndef testing():\\n    print(a)\\n    a=11\\n    print(a)\\n    \\ntesting()\\nprint(a)',\n",
       " '_i12': 'a=10\\ndef testing():\\n    a=11\\n    print(a)\\n    \\ntesting()\\nprint(a)',\n",
       " '_i13': 'a=10\\ndef testing():\\n    //a=11\\n    print(a)\\n    \\ntesting()\\nprint(a)',\n",
       " '_i14': 'a=10\\ndef testing():\\n    //a=11\\n    print(a)\\n    \\ntesting()\\nprint(a)',\n",
       " '_i15': 'a=10\\ndef testing():\\n    print(a)\\n    \\ntesting()\\nprint(a)',\n",
       " '_i16': 'a=10\\ndef testing():\\n    global a=11\\n    print(a)\\n    \\ntesting()\\nprint(a)',\n",
       " '_i17': 'a=10\\ndef testing():\\n    global a\\n    a=11\\n    print(a)\\n    \\ntesting()\\nprint(a)',\n",
       " '_i18': 'a=10\\ndef testing():\\n--    global a\\n    a=11\\n    print(a)\\n    \\ntesting()\\nprint(a)',\n",
       " '_i19': 'a=10\\ndef testing():\\n\\\\\\\\    global a\\n    a=11\\n    print(a)\\n    \\ntesting()\\nprint(a)',\n",
       " '_i20': 'a=10\\ndef testing():\\n//    global a\\n    a=11\\n    print(a)\\n    \\ntesting()\\nprint(a)',\n",
       " '_i21': 'globals()'}"
      ]
     },
     "execution_count": 21,
     "metadata": {},
     "output_type": "execute_result"
    }
   ],
   "source": [
    "globals()"
   ]
  },
  {
   "cell_type": "code",
   "execution_count": null,
   "id": "0be0ae55",
   "metadata": {},
   "outputs": [],
   "source": [
    "def fib():\n",
    "    i=0\n",
    "    j=1\n",
    "while i<range(,5):\n",
    "        x=i+j\n",
    "        print(x, end=\" \")\n",
    "fib()"
   ]
  },
  {
   "cell_type": "code",
   "execution_count": null,
   "id": "be171164",
   "metadata": {},
   "outputs": [],
   "source": [
    "def fib():\n",
    "    i=0\n",
    "    j=0\n",
    "    print(i)\n",
    "return\n",
    "\n",
    "fib()"
   ]
  },
  {
   "cell_type": "code",
   "execution_count": null,
   "id": "7e14444e",
   "metadata": {},
   "outputs": [],
   "source": []
  }
 ],
 "metadata": {
  "kernelspec": {
   "display_name": "Python 3 (ipykernel)",
   "language": "python",
   "name": "python3"
  },
  "language_info": {
   "codemirror_mode": {
    "name": "ipython",
    "version": 3
   },
   "file_extension": ".py",
   "mimetype": "text/x-python",
   "name": "python",
   "nbconvert_exporter": "python",
   "pygments_lexer": "ipython3",
   "version": "3.11.5"
  }
 },
 "nbformat": 4,
 "nbformat_minor": 5
}
