{
 "cells": [
  {
   "cell_type": "code",
   "execution_count": 8,
   "id": "8a3889b1",
   "metadata": {},
   "outputs": [],
   "source": [
    "def add(n1,n2):\n",
    "    print(n1+n2)"
   ]
  },
  {
   "cell_type": "code",
   "execution_count": 9,
   "id": "3cad425c",
   "metadata": {},
   "outputs": [
    {
     "name": "stdout",
     "output_type": "stream",
     "text": [
      "30\n"
     ]
    }
   ],
   "source": [
    "add(10,20)"
   ]
  },
  {
   "cell_type": "code",
   "execution_count": 10,
   "id": "78336d3f",
   "metadata": {},
   "outputs": [],
   "source": [
    "number1=10"
   ]
  },
  {
   "cell_type": "code",
   "execution_count": 13,
   "id": "9c29ce38",
   "metadata": {},
   "outputs": [
    {
     "name": "stdout",
     "output_type": "stream",
     "text": [
      "Please provide a number: 20\n"
     ]
    }
   ],
   "source": [
    "number2=input(\"Please provide a number: \")"
   ]
  },
  {
   "cell_type": "code",
   "execution_count": 14,
   "id": "cbb649fc",
   "metadata": {},
   "outputs": [
    {
     "ename": "TypeError",
     "evalue": "unsupported operand type(s) for +: 'int' and 'str'",
     "output_type": "error",
     "traceback": [
      "\u001b[1;31m---------------------------------------------------------------------------\u001b[0m",
      "\u001b[1;31mTypeError\u001b[0m                                 Traceback (most recent call last)",
      "Cell \u001b[1;32mIn[14], line 1\u001b[0m\n\u001b[1;32m----> 1\u001b[0m add(number1,number2)\n",
      "Cell \u001b[1;32mIn[8], line 2\u001b[0m, in \u001b[0;36madd\u001b[1;34m(n1, n2)\u001b[0m\n\u001b[0;32m      1\u001b[0m \u001b[38;5;28;01mdef\u001b[39;00m \u001b[38;5;21madd\u001b[39m(n1,n2):\n\u001b[1;32m----> 2\u001b[0m     \u001b[38;5;28mprint\u001b[39m(n1\u001b[38;5;241m+\u001b[39mn2)\n",
      "\u001b[1;31mTypeError\u001b[0m: unsupported operand type(s) for +: 'int' and 'str'"
     ]
    }
   ],
   "source": [
    "add(number1,number2)"
   ]
  },
  {
   "cell_type": "code",
   "execution_count": 15,
   "id": "c375a800",
   "metadata": {},
   "outputs": [
    {
     "ename": "TypeError",
     "evalue": "unsupported operand type(s) for +: 'int' and 'str'",
     "output_type": "error",
     "traceback": [
      "\u001b[1;31m---------------------------------------------------------------------------\u001b[0m",
      "\u001b[1;31mTypeError\u001b[0m                                 Traceback (most recent call last)",
      "Cell \u001b[1;32mIn[15], line 1\u001b[0m\n\u001b[1;32m----> 1\u001b[0m add(number1,number2)\n\u001b[0;32m      2\u001b[0m \u001b[38;5;28mprint\u001b[39m(\u001b[38;5;124m\"\u001b[39m\u001b[38;5;124mSomething has happened\u001b[39m\u001b[38;5;124m\"\u001b[39m)\n",
      "Cell \u001b[1;32mIn[8], line 2\u001b[0m, in \u001b[0;36madd\u001b[1;34m(n1, n2)\u001b[0m\n\u001b[0;32m      1\u001b[0m \u001b[38;5;28;01mdef\u001b[39;00m \u001b[38;5;21madd\u001b[39m(n1,n2):\n\u001b[1;32m----> 2\u001b[0m     \u001b[38;5;28mprint\u001b[39m(n1\u001b[38;5;241m+\u001b[39mn2)\n",
      "\u001b[1;31mTypeError\u001b[0m: unsupported operand type(s) for +: 'int' and 'str'"
     ]
    }
   ],
   "source": [
    "add(number1,number2)\n",
    "print(\"Something has happened\")"
   ]
  },
  {
   "cell_type": "code",
   "execution_count": 16,
   "id": "c9142fff",
   "metadata": {},
   "outputs": [],
   "source": [
    "try:\n",
    "    # ATTEMPT THIS CODE\n",
    "    # MAY RESULT IN ERROR\n",
    "    result =10 + 10\n",
    "except:\n",
    "    print(\"Hey it looks like you aren't adding correctly\")"
   ]
  },
  {
   "cell_type": "code",
   "execution_count": 17,
   "id": "7e491635",
   "metadata": {},
   "outputs": [
    {
     "data": {
      "text/plain": [
       "20"
      ]
     },
     "execution_count": 17,
     "metadata": {},
     "output_type": "execute_result"
    }
   ],
   "source": [
    "result"
   ]
  },
  {
   "cell_type": "code",
   "execution_count": 18,
   "id": "8cf674f1",
   "metadata": {},
   "outputs": [
    {
     "name": "stdout",
     "output_type": "stream",
     "text": [
      "Hey it looks like you aren't adding correctly\n"
     ]
    }
   ],
   "source": [
    "try:\n",
    "    # ATTEMPT THIS CODE\n",
    "    # MAY RESULT IN ERROR\n",
    "    result =10 + \"10\"\n",
    "except:\n",
    "    print(\"Hey it looks like you aren't adding correctly\")"
   ]
  },
  {
   "cell_type": "code",
   "execution_count": 20,
   "id": "5fb90f12",
   "metadata": {},
   "outputs": [
    {
     "name": "stdout",
     "output_type": "stream",
     "text": [
      "Hey it looks like you aren't adding correctly\n"
     ]
    }
   ],
   "source": [
    "try:\n",
    "    # ATTEMPT THIS CODE\n",
    "    # MAY RESULT IN ERROR\n",
    "    result =10 + \"10\"\n",
    "except:\n",
    "    print(\"Hey it looks like you aren't adding correctly\")\n",
    "else:\n",
    "    print(\"Add went well!\")\n",
    "    print(result)"
   ]
  },
  {
   "cell_type": "code",
   "execution_count": 21,
   "id": "56657f4a",
   "metadata": {},
   "outputs": [
    {
     "name": "stdout",
     "output_type": "stream",
     "text": [
      "Add went well!\n",
      "20\n"
     ]
    }
   ],
   "source": [
    "try:\n",
    "    # ATTEMPT THIS CODE\n",
    "    # MAY RESULT IN ERROR\n",
    "    result =10 + 10\n",
    "except:\n",
    "    print(\"Hey it looks like you aren't adding correctly\")\n",
    "else:\n",
    "    print(\"Add went well!\")\n",
    "    print(result)"
   ]
  },
  {
   "cell_type": "code",
   "execution_count": 22,
   "id": "3d8de443",
   "metadata": {},
   "outputs": [
    {
     "name": "stdout",
     "output_type": "stream",
     "text": [
      "I always run!\n"
     ]
    }
   ],
   "source": [
    "try:\n",
    "    f=open('testfile','w')\n",
    "    f.write(\"Write a test line\")\n",
    "except TypeError:\n",
    "    print(\"There was a Type Error\")\n",
    "except OSError:\n",
    "    print(\"There was an OS Error\")\n",
    "finally:\n",
    "    print(\"I always run!\")"
   ]
  },
  {
   "cell_type": "code",
   "execution_count": 23,
   "id": "b842b8a5",
   "metadata": {},
   "outputs": [
    {
     "name": "stdout",
     "output_type": "stream",
     "text": [
      "There was an OS Error\n",
      "I always run!\n"
     ]
    }
   ],
   "source": [
    "try:\n",
    "    f=open('testfile','r')\n",
    "    f.write(\"Write a test line\")\n",
    "except TypeError:\n",
    "    print(\"There was a Type Error\")\n",
    "except OSError:\n",
    "    print(\"There was an OS Error\")\n",
    "finally:\n",
    "    print(\"I always run!\")"
   ]
  },
  {
   "cell_type": "code",
   "execution_count": 24,
   "id": "356b84ea",
   "metadata": {},
   "outputs": [
    {
     "name": "stdout",
     "output_type": "stream",
     "text": [
      "There was an Error\n",
      "I always run!\n"
     ]
    }
   ],
   "source": [
    "try:\n",
    "    f=open('testfile','r')\n",
    "    f.write(\"Write a test line\")\n",
    "except TypeError:\n",
    "    print(\"There was a Type Error\")\n",
    "except:\n",
    "    print(\"There was an Error\")\n",
    "finally:\n",
    "    print(\"I always run!\")"
   ]
  },
  {
   "cell_type": "code",
   "execution_count": 27,
   "id": "289a98fc",
   "metadata": {},
   "outputs": [],
   "source": [
    "def ask_for_int():\n",
    "    try:\n",
    "        result=int(input(\"Please provide a number: \"))\n",
    "    except:\n",
    "        print(\"Whoops! That is not a number\")\n",
    "    finally:\n",
    "        print(\"End of try/except/finally\")"
   ]
  },
  {
   "cell_type": "code",
   "execution_count": 28,
   "id": "b05cbffe",
   "metadata": {},
   "outputs": [
    {
     "name": "stdout",
     "output_type": "stream",
     "text": [
      "Please provide a number: 12\n",
      "End of try/except/finally\n"
     ]
    }
   ],
   "source": [
    "ask_for_int()"
   ]
  },
  {
   "cell_type": "code",
   "execution_count": 29,
   "id": "517d1910",
   "metadata": {},
   "outputs": [
    {
     "name": "stdout",
     "output_type": "stream",
     "text": [
      "Please provide a number: word\n",
      "Whoops! That is not a number\n",
      "End of try/except/finally\n"
     ]
    }
   ],
   "source": [
    "ask_for_int()"
   ]
  },
  {
   "cell_type": "code",
   "execution_count": 34,
   "id": "b2d617d3",
   "metadata": {},
   "outputs": [],
   "source": [
    "def ask_for_int():\n",
    "    while True:\n",
    "        try:\n",
    "            result=int(input(\"Please provide a number: \"))\n",
    "        except:\n",
    "            print(\"Whoops! That is not a number\")\n",
    "            continue\n",
    "        else:\n",
    "            print(\"Yes thank you\")\n",
    "            break\n",
    "        finally:\n",
    "            print(\"End of try/except/finally\")\n",
    "            print(\"I will always run at the end\")"
   ]
  },
  {
   "cell_type": "code",
   "execution_count": 35,
   "id": "598ba0f8",
   "metadata": {},
   "outputs": [
    {
     "name": "stdout",
     "output_type": "stream",
     "text": [
      "Please provide a number: 20\n",
      "Yes thank you\n",
      "End of try/except/finally\n",
      "I will always run at the end\n"
     ]
    }
   ],
   "source": [
    "ask_for_int()"
   ]
  },
  {
   "cell_type": "code",
   "execution_count": 36,
   "id": "b31ede21",
   "metadata": {},
   "outputs": [
    {
     "name": "stdout",
     "output_type": "stream",
     "text": [
      "Please provide a number: Word\n",
      "Whoops! That is not a number\n",
      "End of try/except/finally\n",
      "I will always run at the end\n",
      "Please provide a number: Q\n",
      "Whoops! That is not a number\n",
      "End of try/except/finally\n",
      "I will always run at the end\n",
      "Please provide a number: w\n",
      "Whoops! That is not a number\n",
      "End of try/except/finally\n",
      "I will always run at the end\n",
      "Please provide a number: 22\n",
      "Yes thank you\n",
      "End of try/except/finally\n",
      "I will always run at the end\n"
     ]
    }
   ],
   "source": [
    "ask_for_int()"
   ]
  },
  {
   "cell_type": "code",
   "execution_count": null,
   "id": "833c0122",
   "metadata": {},
   "outputs": [],
   "source": []
  }
 ],
 "metadata": {
  "kernelspec": {
   "display_name": "Python 3 (ipykernel)",
   "language": "python",
   "name": "python3"
  },
  "language_info": {
   "codemirror_mode": {
    "name": "ipython",
    "version": 3
   },
   "file_extension": ".py",
   "mimetype": "text/x-python",
   "name": "python",
   "nbconvert_exporter": "python",
   "pygments_lexer": "ipython3",
   "version": "3.11.5"
  }
 },
 "nbformat": 4,
 "nbformat_minor": 5
}
