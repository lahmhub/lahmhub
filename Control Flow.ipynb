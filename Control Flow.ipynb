{
 "cells": [
  {
   "cell_type": "code",
   "execution_count": 1,
   "id": "9ded5cb0",
   "metadata": {},
   "outputs": [
    {
     "name": "stdout",
     "output_type": "stream",
     "text": [
      "It's True\n"
     ]
    }
   ],
   "source": [
    "if True:\n",
    "    print('It\\'s True')"
   ]
  },
  {
   "cell_type": "code",
   "execution_count": 2,
   "id": "0cefbe0d",
   "metadata": {},
   "outputs": [
    {
     "name": "stdout",
     "output_type": "stream",
     "text": [
      "True\n"
     ]
    }
   ],
   "source": [
    "if 3>2:\n",
    "    print('True')"
   ]
  },
  {
   "cell_type": "code",
   "execution_count": 3,
   "id": "c7b659a4",
   "metadata": {},
   "outputs": [
    {
     "name": "stdout",
     "output_type": "stream",
     "text": [
      "Feed me\n"
     ]
    }
   ],
   "source": [
    "hungry = True\n",
    "if hungry:\n",
    "    print('Feed me')"
   ]
  },
  {
   "cell_type": "code",
   "execution_count": 4,
   "id": "6c7f421e",
   "metadata": {},
   "outputs": [
    {
     "data": {
      "text/plain": [
       "True"
      ]
     },
     "execution_count": 4,
     "metadata": {},
     "output_type": "execute_result"
    }
   ],
   "source": [
    "hungry"
   ]
  },
  {
   "cell_type": "code",
   "execution_count": 7,
   "id": "90d8e428",
   "metadata": {},
   "outputs": [
    {
     "name": "stdout",
     "output_type": "stream",
     "text": [
      "Feed me\n"
     ]
    }
   ],
   "source": [
    "if not hungry:\n",
    "    print('I\\'m full')\n",
    "else:\n",
    "    print('Feed me')"
   ]
  },
  {
   "cell_type": "code",
   "execution_count": 8,
   "id": "ef21b75a",
   "metadata": {},
   "outputs": [
    {
     "data": {
      "text/plain": [
       "bool"
      ]
     },
     "execution_count": 8,
     "metadata": {},
     "output_type": "execute_result"
    }
   ],
   "source": [
    "type(hungry)"
   ]
  },
  {
   "cell_type": "code",
   "execution_count": 15,
   "id": "7c60177a",
   "metadata": {},
   "outputs": [
    {
     "name": "stdout",
     "output_type": "stream",
     "text": [
      "Money is cool\n"
     ]
    }
   ],
   "source": [
    "loc='Bank'\n",
    "if loc == 'Auto Shop':\n",
    "    print('Cars are cool!')\n",
    "elif loc=='Bank':\n",
    "    print(\"Money is cool\")\n",
    "elif loc=='Store':\n",
    "    print(\"welcome to the store\")\n",
    "else:\n",
    "    print('I do not know much')"
   ]
  },
  {
   "cell_type": "code",
   "execution_count": 16,
   "id": "99bb6228",
   "metadata": {},
   "outputs": [
    {
     "name": "stdout",
     "output_type": "stream",
     "text": [
      "welcome to the store\n"
     ]
    }
   ],
   "source": [
    "loc='Store'\n",
    "if loc == 'Auto Shop':\n",
    "    print('Cars are cool!')\n",
    "elif loc=='Bank':\n",
    "    print(\"Money is cool\")\n",
    "elif loc=='Store':\n",
    "    print(\"welcome to the store\")\n",
    "else:\n",
    "    print('I do not know much')"
   ]
  },
  {
   "cell_type": "code",
   "execution_count": 19,
   "id": "158f0075",
   "metadata": {},
   "outputs": [
    {
     "name": "stdout",
     "output_type": "stream",
     "text": [
      "What is your name?\n"
     ]
    }
   ],
   "source": [
    "name = 'Fiyin'\n",
    "\n",
    "if name == 'Frankie':\n",
    "    print('Hello Frankie!')\n",
    "elif name == 'Sammy':\n",
    "    print('Hello Sammy')\n",
    "else:\n",
    "    print(\"What is your name?\")"
   ]
  },
  {
   "cell_type": "code",
   "execution_count": 21,
   "id": "33ee62ba",
   "metadata": {},
   "outputs": [
    {
     "name": "stdout",
     "output_type": "stream",
     "text": [
      "1\n",
      "2\n",
      "3\n"
     ]
    }
   ],
   "source": [
    "my_iterable=[1,2,3]\n",
    "\n",
    "for item_name in my_iterable:\n",
    "    print(item_name)"
   ]
  },
  {
   "cell_type": "code",
   "execution_count": 22,
   "id": "b0386a95",
   "metadata": {},
   "outputs": [
    {
     "ename": "SyntaxError",
     "evalue": "'return' outside function (1761373957.py, line 4)",
     "output_type": "error",
     "traceback": [
      "\u001b[1;36m  Cell \u001b[1;32mIn[22], line 4\u001b[1;36m\u001b[0m\n\u001b[1;33m    return(item_name)\u001b[0m\n\u001b[1;37m    ^\u001b[0m\n\u001b[1;31mSyntaxError\u001b[0m\u001b[1;31m:\u001b[0m 'return' outside function\n"
     ]
    }
   ],
   "source": [
    "my_iterable=[1,2,3]\n",
    "\n",
    "for item_name in my_iterable:\n",
    "    return(item_name)"
   ]
  },
  {
   "cell_type": "code",
   "execution_count": 27,
   "id": "e535362e",
   "metadata": {},
   "outputs": [
    {
     "name": "stdout",
     "output_type": "stream",
     "text": [
      "1\n",
      "2\n",
      "3\n",
      "4\n",
      "5\n",
      "6\n",
      "7\n",
      "8\n",
      "9\n",
      "10\n"
     ]
    }
   ],
   "source": [
    "mylist = [1,2,3,4,5,6,7,8,9,10]\n",
    "\n",
    "for item in mylist:\n",
    "    print(item)"
   ]
  },
  {
   "cell_type": "code",
   "execution_count": 33,
   "id": "1c711cff",
   "metadata": {},
   "outputs": [
    {
     "name": "stdout",
     "output_type": "stream",
     "text": [
      "'Hello World'\n",
      "'Hello World'\n",
      "'Hello World'\n",
      "'Hello World'\n",
      "'Hello World'\n",
      "'Hello World'\n",
      "'Hello World'\n",
      "'Hello World'\n",
      "'Hello World'\n",
      "'Hello World'\n"
     ]
    }
   ],
   "source": [
    "for item in mylist:\n",
    "    print('\\'Hello World\\'')"
   ]
  },
  {
   "cell_type": "code",
   "execution_count": 36,
   "id": "6e213993",
   "metadata": {},
   "outputs": [
    {
     "name": "stdout",
     "output_type": "stream",
     "text": [
      "2\n",
      "4\n",
      "6\n",
      "8\n",
      "10\n"
     ]
    }
   ],
   "source": [
    "for num in mylist:\n",
    "    if num % 2== 0:\n",
    "        print(num)"
   ]
  },
  {
   "cell_type": "code",
   "execution_count": 37,
   "id": "58f830ab",
   "metadata": {},
   "outputs": [
    {
     "name": "stdout",
     "output_type": "stream",
     "text": [
      "1\n",
      "3\n",
      "5\n",
      "7\n",
      "9\n"
     ]
    }
   ],
   "source": [
    "for num in mylist:\n",
    "    if num % 2== 1:\n",
    "        print(num)"
   ]
  },
  {
   "cell_type": "code",
   "execution_count": 38,
   "id": "0dae5cb0",
   "metadata": {},
   "outputs": [
    {
     "name": "stdout",
     "output_type": "stream",
     "text": [
      "1 is an odd num\n",
      "2\n",
      "3 is an odd num\n",
      "4\n",
      "5 is an odd num\n",
      "6\n",
      "7 is an odd num\n",
      "8\n",
      "9 is an odd num\n",
      "10\n"
     ]
    }
   ],
   "source": [
    "for num in mylist:\n",
    "    if num % 2== 0:\n",
    "        print(num)\n",
    "    else:\n",
    "        print(f'{num} is an odd num')"
   ]
  },
  {
   "cell_type": "code",
   "execution_count": 39,
   "id": "9a359b7a",
   "metadata": {},
   "outputs": [
    {
     "name": "stdout",
     "output_type": "stream",
     "text": [
      "55\n"
     ]
    }
   ],
   "source": [
    "list_sum=0\n",
    "\n",
    "for num in mylist:\n",
    "    list_sum=list_sum +num\n",
    "\n",
    "print(list_sum)"
   ]
  },
  {
   "cell_type": "code",
   "execution_count": 40,
   "id": "4fffe0a1",
   "metadata": {},
   "outputs": [
    {
     "name": "stdout",
     "output_type": "stream",
     "text": [
      "1\n",
      "3\n",
      "6\n",
      "10\n",
      "15\n",
      "21\n",
      "28\n",
      "36\n",
      "45\n",
      "55\n"
     ]
    }
   ],
   "source": [
    "list_sum=0\n",
    "\n",
    "for num in mylist:\n",
    "    list_sum=list_sum +num\n",
    "    print(list_sum)"
   ]
  },
  {
   "cell_type": "code",
   "execution_count": 41,
   "id": "dda523ac",
   "metadata": {},
   "outputs": [
    {
     "name": "stdout",
     "output_type": "stream",
     "text": [
      "H\n",
      "e\n",
      "l\n",
      "l\n",
      "o\n",
      " \n",
      "W\n",
      "o\n",
      "r\n",
      "l\n",
      "d\n"
     ]
    }
   ],
   "source": [
    "mystring='Hello World'\n",
    "\n",
    "for letter in mystring:\n",
    "    print(letter)"
   ]
  },
  {
   "cell_type": "code",
   "execution_count": 42,
   "id": "d57dc570",
   "metadata": {},
   "outputs": [
    {
     "name": "stdout",
     "output_type": "stream",
     "text": [
      "1\n",
      "2\n",
      "3\n"
     ]
    }
   ],
   "source": [
    "tup=(1,2,3)\n",
    "\n",
    "for item in tup:\n",
    "    print(item)"
   ]
  },
  {
   "cell_type": "markdown",
   "id": "d51dd3ae",
   "metadata": {},
   "source": [
    "TUPLE UNPACKING"
   ]
  },
  {
   "cell_type": "code",
   "execution_count": 43,
   "id": "ca2cfec0",
   "metadata": {},
   "outputs": [],
   "source": [
    "mylist=[(1,2),(3,4),(5,6),(7,8)]"
   ]
  },
  {
   "cell_type": "code",
   "execution_count": 44,
   "id": "4d1ac833",
   "metadata": {},
   "outputs": [
    {
     "data": {
      "text/plain": [
       "4"
      ]
     },
     "execution_count": 44,
     "metadata": {},
     "output_type": "execute_result"
    }
   ],
   "source": [
    "len(mylist)"
   ]
  },
  {
   "cell_type": "code",
   "execution_count": 45,
   "id": "36d54b4f",
   "metadata": {},
   "outputs": [
    {
     "name": "stdout",
     "output_type": "stream",
     "text": [
      "(1, 2)\n",
      "(3, 4)\n",
      "(5, 6)\n",
      "(7, 8)\n"
     ]
    }
   ],
   "source": [
    "for item in mylist:\n",
    "    print(item)"
   ]
  },
  {
   "cell_type": "code",
   "execution_count": 47,
   "id": "a16bf50f",
   "metadata": {},
   "outputs": [
    {
     "name": "stdout",
     "output_type": "stream",
     "text": [
      "1\n",
      "2\n",
      "3\n",
      "4\n",
      "5\n",
      "6\n",
      "7\n",
      "8\n"
     ]
    }
   ],
   "source": [
    "for a,b in mylist:\n",
    "    print(a)\n",
    "    print(b)"
   ]
  },
  {
   "cell_type": "code",
   "execution_count": 48,
   "id": "27005b7a",
   "metadata": {},
   "outputs": [],
   "source": [
    "mylist1=[(1,2,3),(4,5,6),(7,8,9)]"
   ]
  },
  {
   "cell_type": "code",
   "execution_count": 49,
   "id": "1b7c4feb",
   "metadata": {},
   "outputs": [
    {
     "name": "stdout",
     "output_type": "stream",
     "text": [
      "1\n",
      "2\n",
      "4\n",
      "5\n",
      "7\n",
      "8\n"
     ]
    }
   ],
   "source": [
    "for a,b,c in mylist1:\n",
    "    print(a)\n",
    "    print(b)"
   ]
  },
  {
   "cell_type": "code",
   "execution_count": 50,
   "id": "e44a89e1",
   "metadata": {},
   "outputs": [],
   "source": [
    "d = {'k1':1,'k2':2,'k3':3}"
   ]
  },
  {
   "cell_type": "code",
   "execution_count": 53,
   "id": "6a9add00",
   "metadata": {},
   "outputs": [
    {
     "name": "stdout",
     "output_type": "stream",
     "text": [
      "k1\n",
      "k2\n",
      "k3\n"
     ]
    }
   ],
   "source": [
    "for item in d:\n",
    "    print(item)"
   ]
  },
  {
   "cell_type": "code",
   "execution_count": 54,
   "id": "c34a1e9e",
   "metadata": {},
   "outputs": [
    {
     "name": "stdout",
     "output_type": "stream",
     "text": [
      "('k1', 1)\n",
      "('k2', 2)\n",
      "('k3', 3)\n"
     ]
    }
   ],
   "source": [
    "for item in d.items():\n",
    "    print(item)"
   ]
  },
  {
   "cell_type": "code",
   "execution_count": 55,
   "id": "be6bc54f",
   "metadata": {},
   "outputs": [
    {
     "name": "stdout",
     "output_type": "stream",
     "text": [
      "k1 1\n",
      "k2 2\n",
      "k3 3\n"
     ]
    }
   ],
   "source": [
    "for key,value in d.items():\n",
    "    print(key,value)"
   ]
  },
  {
   "cell_type": "code",
   "execution_count": 56,
   "id": "218e1ec7",
   "metadata": {},
   "outputs": [
    {
     "name": "stdout",
     "output_type": "stream",
     "text": [
      "k1\n",
      "k2\n",
      "k3\n"
     ]
    }
   ],
   "source": [
    "for key,value in d.items():\n",
    "    print(key)"
   ]
  },
  {
   "cell_type": "code",
   "execution_count": 57,
   "id": "615dc0cf",
   "metadata": {},
   "outputs": [
    {
     "name": "stdout",
     "output_type": "stream",
     "text": [
      "1\n",
      "2\n",
      "3\n"
     ]
    }
   ],
   "source": [
    "for key,value in d.items():\n",
    "    print(value)"
   ]
  },
  {
   "cell_type": "code",
   "execution_count": 60,
   "id": "66fecbb2",
   "metadata": {},
   "outputs": [
    {
     "name": "stdout",
     "output_type": "stream",
     "text": [
      "1\n",
      "2\n",
      "3\n"
     ]
    }
   ],
   "source": [
    "for value in d.values():\n",
    "    print(value)"
   ]
  },
  {
   "cell_type": "markdown",
   "id": "230a298f",
   "metadata": {},
   "source": [
    "USE \"IF\" STATEMENT WHEN THERE IS A COMPARISON OPERATION\n",
    "USE \"FOR\" STATEMENT WHEN THERE IS A SEQUENCE\n",
    "USE \"WHILE\" STATEMENT WHEN THERE IS A CONDITION THAT REMAINS TRUE/FALSE TILL IT IS BECOMES THE OPPOSITE BOOLEAN ie IT REMAINS TRUE DURING THE ITERATION UNTIL IT BECOMES FALSE"
   ]
  },
  {
   "cell_type": "code",
   "execution_count": 64,
   "id": "35b299ae",
   "metadata": {},
   "outputs": [
    {
     "name": "stdout",
     "output_type": "stream",
     "text": [
      "The current value of x is 0\n",
      "The current value of x is 1\n",
      "The current value of x is 2\n",
      "The current value of x is 3\n",
      "The current value of x is 4\n"
     ]
    }
   ],
   "source": [
    "x = 0\n",
    "\n",
    "while x < 5:\n",
    "    print(f'The current value of x is {x}')\n",
    "    x=x+1"
   ]
  },
  {
   "cell_type": "code",
   "execution_count": 67,
   "id": "c9ce560b",
   "metadata": {},
   "outputs": [
    {
     "name": "stdout",
     "output_type": "stream",
     "text": [
      "The current value of x is 0\n",
      "The current value of x is 1\n",
      "The current value of x is 2\n",
      "The current value of x is 3\n",
      "The current value of x is 4\n",
      "The current value of x is 5\n"
     ]
    }
   ],
   "source": [
    "x = 0\n",
    "\n",
    "while x <= 5:\n",
    "    print(f'The current value of x is {x}')\n",
    "    x=x+1"
   ]
  },
  {
   "cell_type": "code",
   "execution_count": 69,
   "id": "524d1913",
   "metadata": {},
   "outputs": [
    {
     "name": "stdout",
     "output_type": "stream",
     "text": [
      "The current value of x is 0\n",
      "The current value of x is 1\n",
      "The current value of x is 2\n",
      "The current value of x is 3\n",
      "The current value of x is 4\n",
      "The current value of x is 5\n",
      "x is not less than 5\n"
     ]
    }
   ],
   "source": [
    "x = 0\n",
    "\n",
    "while x <= 5:\n",
    "    print(f'The current value of x is {x}')\n",
    "    x+=1\n",
    "else:\n",
    "    print('x is not less than 5')"
   ]
  },
  {
   "cell_type": "code",
   "execution_count": 70,
   "id": "b8691857",
   "metadata": {},
   "outputs": [],
   "source": [
    "x =[1,2,3]\n",
    "\n",
    "for item in x:\n",
    "    pass"
   ]
  },
  {
   "cell_type": "code",
   "execution_count": 73,
   "id": "8b64f9fa",
   "metadata": {},
   "outputs": [
    {
     "name": "stdout",
     "output_type": "stream",
     "text": [
      "end of script\n"
     ]
    }
   ],
   "source": [
    "x =[1,2,3]\n",
    "\n",
    "for item in x:\n",
    "    pass\n",
    "print('end of script')"
   ]
  },
  {
   "cell_type": "code",
   "execution_count": 74,
   "id": "fc00de84",
   "metadata": {},
   "outputs": [
    {
     "name": "stdout",
     "output_type": "stream",
     "text": [
      "S\n",
      "a\n",
      "m\n",
      "m\n",
      "y\n"
     ]
    }
   ],
   "source": [
    "mystring='Sammy'\n",
    "\n",
    "for letter in mystring:\n",
    "    print(letter)"
   ]
  },
  {
   "cell_type": "code",
   "execution_count": 76,
   "id": "1f27b1d4",
   "metadata": {},
   "outputs": [
    {
     "name": "stdout",
     "output_type": "stream",
     "text": [
      "S\n",
      "m\n",
      "m\n",
      "y\n"
     ]
    }
   ],
   "source": [
    "mystring='Sammy'\n",
    "\n",
    "for letter in mystring:\n",
    "    if letter=='a':\n",
    "        continue\n",
    "    print(letter)"
   ]
  },
  {
   "cell_type": "code",
   "execution_count": 77,
   "id": "00774392",
   "metadata": {},
   "outputs": [
    {
     "name": "stdout",
     "output_type": "stream",
     "text": [
      "S\n"
     ]
    }
   ],
   "source": [
    "mystring='Sammy'\n",
    "\n",
    "for letter in mystring:\n",
    "    if letter=='a':\n",
    "        break\n",
    "    print(letter)"
   ]
  },
  {
   "cell_type": "code",
   "execution_count": 78,
   "id": "fabf898d",
   "metadata": {},
   "outputs": [
    {
     "name": "stdout",
     "output_type": "stream",
     "text": [
      "The current value of x is 0\n"
     ]
    }
   ],
   "source": [
    "x = 0\n",
    "\n",
    "while x <= 5:\n",
    "    print(f'The current value of x is {x}')\n",
    "    break"
   ]
  },
  {
   "cell_type": "code",
   "execution_count": 82,
   "id": "3dc3deee",
   "metadata": {},
   "outputs": [
    {
     "name": "stdout",
     "output_type": "stream",
     "text": [
      "The current value of x is 0\n",
      "The current value of x is 1\n"
     ]
    }
   ],
   "source": [
    "x = 0\n",
    "\n",
    "while x <= 5:\n",
    "    if x==2:\n",
    "        break\n",
    "    print(f'The current value of x is {x}')\n",
    "    x+=1"
   ]
  },
  {
   "cell_type": "code",
   "execution_count": 83,
   "id": "ec212124",
   "metadata": {},
   "outputs": [],
   "source": [
    "a={'name':'abc'}\n",
    "b=a\n",
    "c=a.copy()"
   ]
  },
  {
   "cell_type": "code",
   "execution_count": 84,
   "id": "34bc9f75",
   "metadata": {},
   "outputs": [
    {
     "name": "stdout",
     "output_type": "stream",
     "text": [
      "{'name': 'abc'}\n",
      "{'name': 'abc'}\n"
     ]
    }
   ],
   "source": [
    "print(b)\n",
    "print(c)"
   ]
  },
  {
   "cell_type": "code",
   "execution_count": 85,
   "id": "22bf771b",
   "metadata": {},
   "outputs": [],
   "source": [
    "a['name']='xyz'"
   ]
  },
  {
   "cell_type": "code",
   "execution_count": 86,
   "id": "2c6c515d",
   "metadata": {},
   "outputs": [
    {
     "name": "stdout",
     "output_type": "stream",
     "text": [
      "{'name': 'xyz'}\n",
      "{'name': 'abc'}\n"
     ]
    }
   ],
   "source": [
    "print(b)\n",
    "print(c)"
   ]
  },
  {
   "cell_type": "code",
   "execution_count": null,
   "id": "5fd58d5d",
   "metadata": {},
   "outputs": [],
   "source": []
  }
 ],
 "metadata": {
  "kernelspec": {
   "display_name": "Python 3 (ipykernel)",
   "language": "python",
   "name": "python3"
  },
  "language_info": {
   "codemirror_mode": {
    "name": "ipython",
    "version": 3
   },
   "file_extension": ".py",
   "mimetype": "text/x-python",
   "name": "python",
   "nbconvert_exporter": "python",
   "pygments_lexer": "ipython3",
   "version": "3.11.5"
  }
 },
 "nbformat": 4,
 "nbformat_minor": 5
}
