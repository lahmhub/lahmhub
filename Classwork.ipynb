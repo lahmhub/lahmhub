{
 "cells": [
  {
   "cell_type": "code",
   "execution_count": 9,
   "id": "7a1a8229",
   "metadata": {},
   "outputs": [],
   "source": [
    "def myfunc(*args):\n",
    "    mylist=[]\n",
    "    for item in args:\n",
    "        if item % 2 == 0:\n",
    "            mylist.append(item)\n",
    "        else:\n",
    "            pass\n",
    "    return mylist\n",
    "        "
   ]
  },
  {
   "cell_type": "code",
   "execution_count": 10,
   "id": "aaee3fce",
   "metadata": {},
   "outputs": [
    {
     "data": {
      "text/plain": [
       "[6, 8]"
      ]
     },
     "execution_count": 10,
     "metadata": {},
     "output_type": "execute_result"
    }
   ],
   "source": [
    "myfunc(5,6,7,8)"
   ]
  },
  {
   "cell_type": "markdown",
   "id": "26ead7e1",
   "metadata": {},
   "source": [
    "Define a function called myfunc that takes in a string, and returns a matching string where every even letter is uppercase, and every odd letter is lowercase. Assume that the incoming string only contains letters, and don't worry about numbers, spaces or punctuation. The output string can start with either an uppercase or lowercase letter, so long as letters alternate throughout the string."
   ]
  },
  {
   "cell_type": "code",
   "execution_count": 112,
   "id": "c2b4a269",
   "metadata": {},
   "outputs": [],
   "source": [
    "def myfunc(mystr):\n",
    "    x = 0\n",
    "    mylist=[]\n",
    "    my_str=''\n",
    "\n",
    "    while x in range(len(mystr)):\n",
    "        if x%2 == 0:\n",
    "            my_str=mystr[x].upper()\n",
    "            mylist.append(my_str)\n",
    "        else:\n",
    "            mylist.append(mystr[x])\n",
    "        x+=1\n",
    "    print(mylist)\n"
   ]
  },
  {
   "cell_type": "code",
   "execution_count": 113,
   "id": "325a379e",
   "metadata": {},
   "outputs": [
    {
     "name": "stdout",
     "output_type": "stream",
     "text": [
      "['F', 'i', 'Y', 'i', 'N']\n"
     ]
    }
   ],
   "source": [
    "myfunc('fiyin')"
   ]
  },
  {
   "cell_type": "code",
   "execution_count": 170,
   "id": "da7221b3",
   "metadata": {},
   "outputs": [],
   "source": [
    "def myfunc(mystr):\n",
    "    x = 0\n",
    "    mylist=[]\n",
    "    my_str=''\n",
    "\n",
    "    while x in range(len(mystr)):\n",
    "        if x%2 == 0:\n",
    "            my_str=mystr[x].upper()\n",
    "            mylist.append(my_str)\n",
    "        else:\n",
    "            mylist.append(mystr[x])\n",
    "        x+=1\n",
    "    return ''.join(mylist)"
   ]
  },
  {
   "cell_type": "code",
   "execution_count": 171,
   "id": "e1d653d3",
   "metadata": {},
   "outputs": [
    {
     "data": {
      "text/plain": [
       "'FiYiN'"
      ]
     },
     "execution_count": 171,
     "metadata": {},
     "output_type": "execute_result"
    }
   ],
   "source": [
    "myfunc('fiyin')"
   ]
  },
  {
   "cell_type": "code",
   "execution_count": 163,
   "id": "907126d8",
   "metadata": {},
   "outputs": [
    {
     "name": "stdout",
     "output_type": "stream",
     "text": [
      "FiYiN\n"
     ]
    }
   ],
   "source": [
    "try1=''.join(['F', 'i', 'Y', 'i', 'N'])\n",
    "print(try1)"
   ]
  },
  {
   "cell_type": "markdown",
   "id": "054d8876",
   "metadata": {},
   "source": [
    "LESSER OF TWO EVENS: Write a function that returns the lesser of two given numbers if both numbers are even, but returns the greater if one or both numbers are odd"
   ]
  },
  {
   "cell_type": "code",
   "execution_count": 226,
   "id": "df775642",
   "metadata": {},
   "outputs": [],
   "source": [
    "def lesser_of_two_evens(a,b):\n",
    "    if a%2 != 0 or b % 2!=0:\n",
    "            if a<b:\n",
    "                return b\n",
    "            else:\n",
    "                return a\n",
    "    elif a%2 == 0 & b % 2==0:\n",
    "        if a<b:\n",
    "            return a\n",
    "        else:\n",
    "            return b"
   ]
  },
  {
   "cell_type": "code",
   "execution_count": 234,
   "id": "792fd449",
   "metadata": {},
   "outputs": [
    {
     "data": {
      "text/plain": [
       "7"
      ]
     },
     "execution_count": 234,
     "metadata": {},
     "output_type": "execute_result"
    }
   ],
   "source": [
    "lesser_of_two_evens(3,7)"
   ]
  },
  {
   "cell_type": "markdown",
   "id": "3815159e",
   "metadata": {},
   "source": [
    "Write a function takes a two-word string and returns True if both words begin with same letter"
   ]
  },
  {
   "cell_type": "code",
   "execution_count": 52,
   "id": "20fdad04",
   "metadata": {},
   "outputs": [],
   "source": [
    "def animal_crackers(arg):\n",
    "    mystr=arg.split()\n",
    "    if mystr[0][0]==mystr[1][0]:\n",
    "        return True\n",
    "    else:\n",
    "        return False"
   ]
  },
  {
   "cell_type": "code",
   "execution_count": 53,
   "id": "42d7963e",
   "metadata": {},
   "outputs": [
    {
     "data": {
      "text/plain": [
       "True"
      ]
     },
     "execution_count": 53,
     "metadata": {},
     "output_type": "execute_result"
    }
   ],
   "source": [
    "animal_crackers('Levelheaded Llama')"
   ]
  },
  {
   "cell_type": "code",
   "execution_count": 54,
   "id": "06693983",
   "metadata": {},
   "outputs": [
    {
     "data": {
      "text/plain": [
       "False"
      ]
     },
     "execution_count": 54,
     "metadata": {},
     "output_type": "execute_result"
    }
   ],
   "source": [
    "animal_crackers('Crazy Kangaroo')"
   ]
  },
  {
   "cell_type": "code",
   "execution_count": null,
   "id": "ccddc718",
   "metadata": {},
   "outputs": [],
   "source": []
  },
  {
   "cell_type": "markdown",
   "id": "98510527",
   "metadata": {},
   "source": [
    "MAKES TWENTY: Given two integers, return True if the sum of the integers is 20 or if one of the integers is 20. If not, return False"
   ]
  },
  {
   "cell_type": "code",
   "execution_count": 62,
   "id": "7d673cc3",
   "metadata": {},
   "outputs": [],
   "source": [
    "def makes_twenty(a,b):\n",
    "    if a==20 or b==20 or sum((a,b))==20:\n",
    "        return True\n",
    "    else:\n",
    "        return False"
   ]
  },
  {
   "cell_type": "code",
   "execution_count": 63,
   "id": "91c84888",
   "metadata": {},
   "outputs": [
    {
     "data": {
      "text/plain": [
       "True"
      ]
     },
     "execution_count": 63,
     "metadata": {},
     "output_type": "execute_result"
    }
   ],
   "source": [
    "makes_twenty(20,10)"
   ]
  },
  {
   "cell_type": "code",
   "execution_count": 64,
   "id": "89f59ba9",
   "metadata": {},
   "outputs": [
    {
     "data": {
      "text/plain": [
       "True"
      ]
     },
     "execution_count": 64,
     "metadata": {},
     "output_type": "execute_result"
    }
   ],
   "source": [
    "makes_twenty(12,8)"
   ]
  },
  {
   "cell_type": "code",
   "execution_count": 65,
   "id": "0bb56fe6",
   "metadata": {},
   "outputs": [
    {
     "data": {
      "text/plain": [
       "False"
      ]
     },
     "execution_count": 65,
     "metadata": {},
     "output_type": "execute_result"
    }
   ],
   "source": [
    "makes_twenty(2,3)"
   ]
  },
  {
   "cell_type": "code",
   "execution_count": null,
   "id": "7558fa2b",
   "metadata": {},
   "outputs": [],
   "source": []
  },
  {
   "cell_type": "markdown",
   "id": "db4201ed",
   "metadata": {},
   "source": [
    "OLD MACDONALD: Write a function that capitalizes the first and fourth letters of a name"
   ]
  },
  {
   "cell_type": "code",
   "execution_count": 117,
   "id": "05c7da22",
   "metadata": {},
   "outputs": [],
   "source": [
    "def old_macdonald(a):\n",
    "    mylist=[]\n",
    "    x=0\n",
    "    my_str=''\n",
    "    while x in range(len(a)):\n",
    "        if x==0 or x==4:\n",
    "            my_str=a[x].upper()\n",
    "            mylist.append(my_str)\n",
    "        else:\n",
    "            mylist.append(a[x])\n",
    "        x+=1\n",
    "    return ''.join(mylist)\n"
   ]
  },
  {
   "cell_type": "code",
   "execution_count": 118,
   "id": "c6535c76",
   "metadata": {},
   "outputs": [
    {
     "data": {
      "text/plain": [
       "'MacdOnald'"
      ]
     },
     "execution_count": 118,
     "metadata": {},
     "output_type": "execute_result"
    }
   ],
   "source": [
    "old_macdonald('macdonald')"
   ]
  },
  {
   "cell_type": "code",
   "execution_count": null,
   "id": "f9043fd3",
   "metadata": {},
   "outputs": [],
   "source": []
  },
  {
   "cell_type": "markdown",
   "id": "8a6bd3a5",
   "metadata": {},
   "source": [
    "MASTER YODA: Given a sentence, return a sentence with the words reversed"
   ]
  },
  {
   "cell_type": "code",
   "execution_count": 292,
   "id": "35b0db1c",
   "metadata": {},
   "outputs": [],
   "source": [
    "def master_yoda(a):\n",
    "    mylist=[]\n",
    "    mystr=''\n",
    "    for x in a.split():\n",
    "        mystr=x\n",
    "        mylist.append(mystr)\n",
    "        for y in mylist:\n",
    "            mylist=mylist[::-1]\n",
    "    return ' '.join(mylist)"
   ]
  },
  {
   "cell_type": "code",
   "execution_count": 293,
   "id": "470f11d3",
   "metadata": {},
   "outputs": [
    {
     "data": {
      "text/plain": [
       "'home am I'"
      ]
     },
     "execution_count": 293,
     "metadata": {},
     "output_type": "execute_result"
    }
   ],
   "source": [
    "master_yoda('I am home')"
   ]
  },
  {
   "cell_type": "code",
   "execution_count": 294,
   "id": "8e769b3f",
   "metadata": {},
   "outputs": [
    {
     "data": {
      "text/plain": [
       "'ready are We'"
      ]
     },
     "execution_count": 294,
     "metadata": {},
     "output_type": "execute_result"
    }
   ],
   "source": [
    "master_yoda('We are ready')"
   ]
  },
  {
   "cell_type": "code",
   "execution_count": null,
   "id": "1dcc4c21",
   "metadata": {},
   "outputs": [],
   "source": []
  },
  {
   "cell_type": "markdown",
   "id": "665ac5e2",
   "metadata": {},
   "source": [
    "ALMOST THERE: Given an integer n, return True if n is within 10 of either 100 or 200"
   ]
  },
  {
   "cell_type": "code",
   "execution_count": 178,
   "id": "fe6b6366",
   "metadata": {},
   "outputs": [],
   "source": [
    "def almost_there(n):\n",
    "    if n in range(90,111) or n in range(190,211):\n",
    "        return True\n",
    "    else:\n",
    "        return False"
   ]
  },
  {
   "cell_type": "code",
   "execution_count": 179,
   "id": "ea0dd9b8",
   "metadata": {},
   "outputs": [
    {
     "data": {
      "text/plain": [
       "True"
      ]
     },
     "execution_count": 179,
     "metadata": {},
     "output_type": "execute_result"
    }
   ],
   "source": [
    "almost_there(104)"
   ]
  },
  {
   "cell_type": "code",
   "execution_count": 180,
   "id": "758b28d0",
   "metadata": {},
   "outputs": [
    {
     "data": {
      "text/plain": [
       "True"
      ]
     },
     "execution_count": 180,
     "metadata": {},
     "output_type": "execute_result"
    }
   ],
   "source": [
    "almost_there(90)"
   ]
  },
  {
   "cell_type": "code",
   "execution_count": 181,
   "id": "dc8737b9",
   "metadata": {},
   "outputs": [
    {
     "data": {
      "text/plain": [
       "False"
      ]
     },
     "execution_count": 181,
     "metadata": {},
     "output_type": "execute_result"
    }
   ],
   "source": [
    "almost_there(150)"
   ]
  },
  {
   "cell_type": "code",
   "execution_count": 182,
   "id": "9c28b0e2",
   "metadata": {},
   "outputs": [
    {
     "data": {
      "text/plain": [
       "True"
      ]
     },
     "execution_count": 182,
     "metadata": {},
     "output_type": "execute_result"
    }
   ],
   "source": [
    "almost_there(209)"
   ]
  },
  {
   "cell_type": "code",
   "execution_count": null,
   "id": "b342eb2c",
   "metadata": {},
   "outputs": [],
   "source": []
  },
  {
   "cell_type": "markdown",
   "id": "2bf6383c",
   "metadata": {},
   "source": [
    "Given a list of ints, return True if the array contains a 3 next to a 3 somewhere"
   ]
  },
  {
   "cell_type": "code",
   "execution_count": 224,
   "id": "9a12fceb",
   "metadata": {},
   "outputs": [],
   "source": [
    "def has_33(nums):\n",
    "    for x in range(len(nums)-1):\n",
    "        if nums[x]==3 and num[x+1]==3:\n",
    "            return True\n",
    "        else:\n",
    "            return False"
   ]
  },
  {
   "cell_type": "code",
   "execution_count": 225,
   "id": "06f6025f",
   "metadata": {},
   "outputs": [
    {
     "data": {
      "text/plain": [
       "False"
      ]
     },
     "execution_count": 225,
     "metadata": {},
     "output_type": "execute_result"
    }
   ],
   "source": [
    "has_33([1, 3, 3])"
   ]
  },
  {
   "cell_type": "code",
   "execution_count": 226,
   "id": "2b544e77",
   "metadata": {},
   "outputs": [
    {
     "data": {
      "text/plain": [
       "False"
      ]
     },
     "execution_count": 226,
     "metadata": {},
     "output_type": "execute_result"
    }
   ],
   "source": [
    "has_33([1, 3, 1, 3])"
   ]
  },
  {
   "cell_type": "code",
   "execution_count": 257,
   "id": "84bb4b11",
   "metadata": {},
   "outputs": [],
   "source": [
    "def has_33(nums):\n",
    "    x=0\n",
    "    while x in range(len(nums)):\n",
    "        if nums[x]!=3 or nums[x+1]!=3:\n",
    "            print(nums[x],nums[x+1])\n",
    "            return False\n",
    "        elif nums[x]!=3 and nums[x+1]==3:\n",
    "            print(nums[x],nums[x+1])\n",
    "            return False\n",
    "        else:\n",
    "            print(nums[x],nums[x+1])\n",
    "            return True\n",
    "        x+=1"
   ]
  },
  {
   "cell_type": "code",
   "execution_count": 289,
   "id": "f8678fa3",
   "metadata": {},
   "outputs": [
    {
     "data": {
      "text/plain": [
       "False"
      ]
     },
     "execution_count": 289,
     "metadata": {},
     "output_type": "execute_result"
    }
   ],
   "source": [
    "has_33([1, 3, 3])"
   ]
  },
  {
   "cell_type": "code",
   "execution_count": 259,
   "id": "a0a96de8",
   "metadata": {},
   "outputs": [],
   "source": [
    "def has_33(nums):\n",
    "    x=0\n",
    "    num1=0\n",
    "    num2=0\n",
    "    while x in range(len(nums)):\n",
    "        num1=nums[x]\n",
    "        num2=nums[x+1]\n",
    "        \n",
    "        if nums[x]!=3 or nums[x+1]!=3:\n",
    "            print(nums[x],nums[x+1])\n",
    "            return False\n",
    "        elif nums[x]!=3 and nums[x+1]==3:\n",
    "            print(nums[x],nums[x+1])\n",
    "            return False\n",
    "        else:\n",
    "            print(nums[x],nums[x+1])\n",
    "            return True\n",
    "        x+=1"
   ]
  },
  {
   "cell_type": "code",
   "execution_count": 283,
   "id": "8643508f",
   "metadata": {},
   "outputs": [],
   "source": [
    "def has_33(nums):\n",
    "    num1=0\n",
    "    num2=0\n",
    "    for x in range(len(nums)-1):\n",
    "        for y in range(len(nums)):\n",
    "            num1=nums[x]\n",
    "            num2=nums[y]\n",
    "            if num1!=3 or num2!=3:\n",
    "                print(num1,num2)\n",
    "                return False\n",
    "            elif num1!=3 and num2==3:\n",
    "                print(num1,num2)\n",
    "                return False\n",
    "            else:\n",
    "                print(num1,num2)\n",
    "                return True"
   ]
  },
  {
   "cell_type": "code",
   "execution_count": 288,
   "id": "3124b10b",
   "metadata": {},
   "outputs": [],
   "source": [
    "def has_33(nums):\n",
    "    num1=0\n",
    "    num2=0\n",
    "    for x in range(len(nums)-1):\n",
    "            num1=nums[x]\n",
    "            num2=nums[x+1]\n",
    "            if num1==3 and num1==3:\n",
    "                return True\n",
    "            else:\n",
    "                return False"
   ]
  },
  {
   "cell_type": "code",
   "execution_count": null,
   "id": "a85434a4",
   "metadata": {},
   "outputs": [],
   "source": [
    "has_33([1, 3, 3])"
   ]
  }
 ],
 "metadata": {
  "kernelspec": {
   "display_name": "Python 3 (ipykernel)",
   "language": "python",
   "name": "python3"
  },
  "language_info": {
   "codemirror_mode": {
    "name": "ipython",
    "version": 3
   },
   "file_extension": ".py",
   "mimetype": "text/x-python",
   "name": "python",
   "nbconvert_exporter": "python",
   "pygments_lexer": "ipython3",
   "version": "3.11.5"
  }
 },
 "nbformat": 4,
 "nbformat_minor": 5
}
