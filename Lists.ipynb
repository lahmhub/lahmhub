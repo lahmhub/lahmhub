{
 "cells": [
  {
   "cell_type": "markdown",
   "id": "075e688a",
   "metadata": {},
   "source": [
    "They are order sequences that can hold a variety of object tyoes. They are represented with [] and commas to separate the objects. They  support slicing and indexing and can be nested. "
   ]
  },
  {
   "cell_type": "code",
   "execution_count": 1,
   "id": "bc9faa34",
   "metadata": {},
   "outputs": [],
   "source": [
    "my_list =[1,2,3]"
   ]
  },
  {
   "cell_type": "code",
   "execution_count": 2,
   "id": "8f003693",
   "metadata": {},
   "outputs": [
    {
     "data": {
      "text/plain": [
       "[1, 2, 3]"
      ]
     },
     "execution_count": 2,
     "metadata": {},
     "output_type": "execute_result"
    }
   ],
   "source": [
    "my_list"
   ]
  },
  {
   "cell_type": "code",
   "execution_count": 3,
   "id": "a5039fa0",
   "metadata": {},
   "outputs": [
    {
     "data": {
      "text/plain": [
       "list"
      ]
     },
     "execution_count": 3,
     "metadata": {},
     "output_type": "execute_result"
    }
   ],
   "source": [
    "type(my_list)"
   ]
  },
  {
   "cell_type": "code",
   "execution_count": 4,
   "id": "a8f2968b",
   "metadata": {},
   "outputs": [
    {
     "data": {
      "text/plain": [
       "3"
      ]
     },
     "execution_count": 4,
     "metadata": {},
     "output_type": "execute_result"
    }
   ],
   "source": [
    "len(my_list)"
   ]
  },
  {
   "cell_type": "code",
   "execution_count": 5,
   "id": "ca814428",
   "metadata": {},
   "outputs": [],
   "source": [
    "my_objects=['STRING',100,23.2]"
   ]
  },
  {
   "cell_type": "code",
   "execution_count": 6,
   "id": "7f984d62",
   "metadata": {},
   "outputs": [
    {
     "data": {
      "text/plain": [
       "list"
      ]
     },
     "execution_count": 6,
     "metadata": {},
     "output_type": "execute_result"
    }
   ],
   "source": [
    "type(my_objects)"
   ]
  },
  {
   "cell_type": "code",
   "execution_count": 7,
   "id": "e4c1ede6",
   "metadata": {},
   "outputs": [
    {
     "data": {
      "text/plain": [
       "3"
      ]
     },
     "execution_count": 7,
     "metadata": {},
     "output_type": "execute_result"
    }
   ],
   "source": [
    "len(my_objects)"
   ]
  },
  {
   "cell_type": "code",
   "execution_count": 8,
   "id": "f7931f7e",
   "metadata": {},
   "outputs": [
    {
     "data": {
      "text/plain": [
       "1"
      ]
     },
     "execution_count": 8,
     "metadata": {},
     "output_type": "execute_result"
    }
   ],
   "source": [
    "my_list[0]"
   ]
  },
  {
   "cell_type": "code",
   "execution_count": 9,
   "id": "3f5a37ce",
   "metadata": {},
   "outputs": [
    {
     "data": {
      "text/plain": [
       "[2, 3]"
      ]
     },
     "execution_count": 9,
     "metadata": {},
     "output_type": "execute_result"
    }
   ],
   "source": [
    "my_list[1:]"
   ]
  },
  {
   "cell_type": "code",
   "execution_count": 10,
   "id": "0d9702f8",
   "metadata": {},
   "outputs": [
    {
     "data": {
      "text/plain": [
       "[1, 2, 3, 'STRING', 100, 23.2]"
      ]
     },
     "execution_count": 10,
     "metadata": {},
     "output_type": "execute_result"
    }
   ],
   "source": [
    "my_list + my_objects"
   ]
  },
  {
   "cell_type": "code",
   "execution_count": 11,
   "id": "bcb90663",
   "metadata": {},
   "outputs": [],
   "source": [
    "new_list=my_list+my_objects"
   ]
  },
  {
   "cell_type": "code",
   "execution_count": 12,
   "id": "7ef4b864",
   "metadata": {},
   "outputs": [
    {
     "data": {
      "text/plain": [
       "[1, 2, 3, 'STRING', 100, 23.2]"
      ]
     },
     "execution_count": 12,
     "metadata": {},
     "output_type": "execute_result"
    }
   ],
   "source": [
    "new_list"
   ]
  },
  {
   "cell_type": "markdown",
   "id": "abe698dc",
   "metadata": {},
   "source": [
    "IMMUTABILITY\n",
    "\n",
    "Lists are mutable, the objects can be modified in the list"
   ]
  },
  {
   "cell_type": "code",
   "execution_count": 13,
   "id": "37e74ecf",
   "metadata": {},
   "outputs": [
    {
     "data": {
      "text/plain": [
       "[1, 2, 3, 'STRING', 100, 23.2]"
      ]
     },
     "execution_count": 13,
     "metadata": {},
     "output_type": "execute_result"
    }
   ],
   "source": [
    "new_list"
   ]
  },
  {
   "cell_type": "code",
   "execution_count": 14,
   "id": "55bebcb0",
   "metadata": {},
   "outputs": [],
   "source": [
    "new_list[3]='string'"
   ]
  },
  {
   "cell_type": "code",
   "execution_count": 15,
   "id": "19d979f9",
   "metadata": {},
   "outputs": [
    {
     "data": {
      "text/plain": [
       "[1, 2, 3, 'string', 100, 23.2]"
      ]
     },
     "execution_count": 15,
     "metadata": {},
     "output_type": "execute_result"
    }
   ],
   "source": [
    "new_list"
   ]
  },
  {
   "cell_type": "code",
   "execution_count": 16,
   "id": "a05fc960",
   "metadata": {},
   "outputs": [],
   "source": [
    "new_list[1]=2.0"
   ]
  },
  {
   "cell_type": "code",
   "execution_count": 17,
   "id": "2a478e0e",
   "metadata": {},
   "outputs": [
    {
     "data": {
      "text/plain": [
       "[1, 2.0, 3, 'string', 100, 23.2]"
      ]
     },
     "execution_count": 17,
     "metadata": {},
     "output_type": "execute_result"
    }
   ],
   "source": [
    "new_list"
   ]
  },
  {
   "cell_type": "code",
   "execution_count": 18,
   "id": "a952d9b3",
   "metadata": {},
   "outputs": [],
   "source": [
    "new_list.append('6.0')"
   ]
  },
  {
   "cell_type": "code",
   "execution_count": 19,
   "id": "946b426a",
   "metadata": {},
   "outputs": [
    {
     "data": {
      "text/plain": [
       "[1, 2.0, 3, 'string', 100, 23.2, '6.0']"
      ]
     },
     "execution_count": 19,
     "metadata": {},
     "output_type": "execute_result"
    }
   ],
   "source": [
    "new_list"
   ]
  },
  {
   "cell_type": "code",
   "execution_count": 20,
   "id": "d0afdba8",
   "metadata": {},
   "outputs": [],
   "source": [
    "new_list[6]=6.0"
   ]
  },
  {
   "cell_type": "code",
   "execution_count": 21,
   "id": "3084f58a",
   "metadata": {},
   "outputs": [
    {
     "data": {
      "text/plain": [
       "[1, 2.0, 3, 'string', 100, 23.2, 6.0]"
      ]
     },
     "execution_count": 21,
     "metadata": {},
     "output_type": "execute_result"
    }
   ],
   "source": [
    "new_list"
   ]
  },
  {
   "cell_type": "code",
   "execution_count": 23,
   "id": "0aa46961",
   "metadata": {},
   "outputs": [],
   "source": [
    "new_list.append('LAST')"
   ]
  },
  {
   "cell_type": "code",
   "execution_count": 24,
   "id": "180c6afd",
   "metadata": {},
   "outputs": [
    {
     "data": {
      "text/plain": [
       "[1, 2.0, 3, 'string', 100, 23.2, 6.0, 'LAST']"
      ]
     },
     "execution_count": 24,
     "metadata": {},
     "output_type": "execute_result"
    }
   ],
   "source": [
    "new_list"
   ]
  },
  {
   "cell_type": "code",
   "execution_count": 25,
   "id": "ce0ff2c6",
   "metadata": {},
   "outputs": [
    {
     "data": {
      "text/plain": [
       "8"
      ]
     },
     "execution_count": 25,
     "metadata": {},
     "output_type": "execute_result"
    }
   ],
   "source": [
    "len(new_list)"
   ]
  },
  {
   "cell_type": "code",
   "execution_count": 26,
   "id": "1b942f85",
   "metadata": {},
   "outputs": [
    {
     "data": {
      "text/plain": [
       "'LAST'"
      ]
     },
     "execution_count": 26,
     "metadata": {},
     "output_type": "execute_result"
    }
   ],
   "source": [
    "new_list.pop()"
   ]
  },
  {
   "cell_type": "code",
   "execution_count": 27,
   "id": "1145d1ad",
   "metadata": {},
   "outputs": [
    {
     "data": {
      "text/plain": [
       "[1, 2.0, 3, 'string', 100, 23.2, 6.0]"
      ]
     },
     "execution_count": 27,
     "metadata": {},
     "output_type": "execute_result"
    }
   ],
   "source": [
    "new_list"
   ]
  },
  {
   "cell_type": "code",
   "execution_count": 28,
   "id": "3ddecddd",
   "metadata": {},
   "outputs": [],
   "source": [
    "pop_new=new_list.pop()"
   ]
  },
  {
   "cell_type": "code",
   "execution_count": 29,
   "id": "b4fecb15",
   "metadata": {},
   "outputs": [
    {
     "data": {
      "text/plain": [
       "6.0"
      ]
     },
     "execution_count": 29,
     "metadata": {},
     "output_type": "execute_result"
    }
   ],
   "source": [
    "pop_new"
   ]
  },
  {
   "cell_type": "code",
   "execution_count": 30,
   "id": "2e3018e8",
   "metadata": {},
   "outputs": [
    {
     "data": {
      "text/plain": [
       "'string'"
      ]
     },
     "execution_count": 30,
     "metadata": {},
     "output_type": "execute_result"
    }
   ],
   "source": [
    "new_list.pop(3)"
   ]
  },
  {
   "cell_type": "code",
   "execution_count": 31,
   "id": "31503bc5",
   "metadata": {},
   "outputs": [
    {
     "data": {
      "text/plain": [
       "[1, 2.0, 3, 100, 23.2]"
      ]
     },
     "execution_count": 31,
     "metadata": {},
     "output_type": "execute_result"
    }
   ],
   "source": [
    "new_list"
   ]
  },
  {
   "cell_type": "code",
   "execution_count": 32,
   "id": "3985c6b9",
   "metadata": {},
   "outputs": [],
   "source": [
    "new_letters=['a','e','x','b','c']"
   ]
  },
  {
   "cell_type": "code",
   "execution_count": 33,
   "id": "c143b822",
   "metadata": {},
   "outputs": [
    {
     "data": {
      "text/plain": [
       "['a', 'e', 'x', 'b', 'c']"
      ]
     },
     "execution_count": 33,
     "metadata": {},
     "output_type": "execute_result"
    }
   ],
   "source": [
    "new_letters"
   ]
  },
  {
   "cell_type": "code",
   "execution_count": 34,
   "id": "fae45d35",
   "metadata": {},
   "outputs": [],
   "source": [
    "new_letters.sort()"
   ]
  },
  {
   "cell_type": "code",
   "execution_count": 35,
   "id": "d6905d81",
   "metadata": {},
   "outputs": [
    {
     "data": {
      "text/plain": [
       "['a', 'b', 'c', 'e', 'x']"
      ]
     },
     "execution_count": 35,
     "metadata": {},
     "output_type": "execute_result"
    }
   ],
   "source": [
    "new_letters"
   ]
  },
  {
   "cell_type": "code",
   "execution_count": 36,
   "id": "e11932b2",
   "metadata": {},
   "outputs": [],
   "source": [
    "new_num=[1,5,32,2,4,5,6]"
   ]
  },
  {
   "cell_type": "code",
   "execution_count": 37,
   "id": "85ca6441",
   "metadata": {},
   "outputs": [
    {
     "data": {
      "text/plain": [
       "[1, 5, 32, 2, 4, 5, 6]"
      ]
     },
     "execution_count": 37,
     "metadata": {},
     "output_type": "execute_result"
    }
   ],
   "source": [
    "new_num"
   ]
  },
  {
   "cell_type": "code",
   "execution_count": 38,
   "id": "4e0ce4a6",
   "metadata": {},
   "outputs": [],
   "source": [
    "new_num.sort()"
   ]
  },
  {
   "cell_type": "code",
   "execution_count": 39,
   "id": "b4f3e34d",
   "metadata": {},
   "outputs": [
    {
     "data": {
      "text/plain": [
       "[1, 2, 4, 5, 5, 6, 32]"
      ]
     },
     "execution_count": 39,
     "metadata": {},
     "output_type": "execute_result"
    }
   ],
   "source": [
    "new_num"
   ]
  },
  {
   "cell_type": "code",
   "execution_count": 40,
   "id": "e5a15dd8",
   "metadata": {},
   "outputs": [],
   "source": [
    "new_num=[1,5,32,2,4,5,6]"
   ]
  },
  {
   "cell_type": "code",
   "execution_count": 41,
   "id": "d44f696f",
   "metadata": {},
   "outputs": [
    {
     "data": {
      "text/plain": [
       "[1, 5, 32, 2, 4, 5, 6]"
      ]
     },
     "execution_count": 41,
     "metadata": {},
     "output_type": "execute_result"
    }
   ],
   "source": [
    "new_num"
   ]
  },
  {
   "cell_type": "code",
   "execution_count": 42,
   "id": "1d2f1883",
   "metadata": {},
   "outputs": [],
   "source": [
    "new_num1 = new_num.sort()"
   ]
  },
  {
   "cell_type": "code",
   "execution_count": 43,
   "id": "1d3006f0",
   "metadata": {},
   "outputs": [],
   "source": [
    "new_num1"
   ]
  },
  {
   "cell_type": "code",
   "execution_count": 44,
   "id": "6f8325ee",
   "metadata": {},
   "outputs": [
    {
     "data": {
      "text/plain": [
       "[1, 2, 4, 5, 5, 6, 32]"
      ]
     },
     "execution_count": 44,
     "metadata": {},
     "output_type": "execute_result"
    }
   ],
   "source": [
    "new_num"
   ]
  },
  {
   "cell_type": "code",
   "execution_count": 45,
   "id": "a5e54501",
   "metadata": {},
   "outputs": [],
   "source": [
    "new_num1=new_num"
   ]
  },
  {
   "cell_type": "code",
   "execution_count": 46,
   "id": "86bcd557",
   "metadata": {},
   "outputs": [
    {
     "data": {
      "text/plain": [
       "[1, 2, 4, 5, 5, 6, 32]"
      ]
     },
     "execution_count": 46,
     "metadata": {},
     "output_type": "execute_result"
    }
   ],
   "source": [
    "new_num1"
   ]
  },
  {
   "cell_type": "code",
   "execution_count": 47,
   "id": "6b868036",
   "metadata": {},
   "outputs": [],
   "source": [
    "new_num1.reverse()"
   ]
  },
  {
   "cell_type": "code",
   "execution_count": 48,
   "id": "6a280c9c",
   "metadata": {},
   "outputs": [
    {
     "data": {
      "text/plain": [
       "[32, 6, 5, 5, 4, 2, 1]"
      ]
     },
     "execution_count": 48,
     "metadata": {},
     "output_type": "execute_result"
    }
   ],
   "source": [
    "new_num1"
   ]
  },
  {
   "cell_type": "code",
   "execution_count": 49,
   "id": "3f755cac",
   "metadata": {},
   "outputs": [],
   "source": [
    "index_list=[1,1,[1,2]]"
   ]
  },
  {
   "cell_type": "code",
   "execution_count": 50,
   "id": "f96e4687",
   "metadata": {},
   "outputs": [
    {
     "data": {
      "text/plain": [
       "[1, 1, [1, 2]]"
      ]
     },
     "execution_count": 50,
     "metadata": {},
     "output_type": "execute_result"
    }
   ],
   "source": [
    "index_list"
   ]
  },
  {
   "cell_type": "code",
   "execution_count": 52,
   "id": "d2b1d699",
   "metadata": {},
   "outputs": [
    {
     "data": {
      "text/plain": [
       "2"
      ]
     },
     "execution_count": 52,
     "metadata": {},
     "output_type": "execute_result"
    }
   ],
   "source": [
    "index_list[2][1]"
   ]
  },
  {
   "cell_type": "code",
   "execution_count": null,
   "id": "fe3da936",
   "metadata": {},
   "outputs": [],
   "source": []
  }
 ],
 "metadata": {
  "kernelspec": {
   "display_name": "Python 3 (ipykernel)",
   "language": "python",
   "name": "python3"
  },
  "language_info": {
   "codemirror_mode": {
    "name": "ipython",
    "version": 3
   },
   "file_extension": ".py",
   "mimetype": "text/x-python",
   "name": "python",
   "nbconvert_exporter": "python",
   "pygments_lexer": "ipython3",
   "version": "3.11.5"
  }
 },
 "nbformat": 4,
 "nbformat_minor": 5
}
